{
 "cells": [
  {
   "cell_type": "markdown",
   "metadata": {},
   "source": [
    "For an Arcmap Python class:\n",
    "\n",
    "I need a table like this,\n",
    ">Site = [resteraunt1, resteraunt2, resteraunt3]  \n",
    ">location = [address1, address2, address3]  \n",
    ">phone = [number1, number2, number3]  \n",
    ">desc = [review1, review2, review3]  \n",
    "\n",
    "So far I have been able to break the website down so that each row returns a different set, from the resteraunt, address, phone and description but I can not seem to work out how to make each one go into it's own table through looping.  \n",
    "\n",
    "Ultimately, I need to make a CSV file with the addresses convereted to Lat Long that ArcMap can read... but for now I am just trying to get the table (or dictionary?) to even build.  \n",
    "\n",
    "URL of website being scraped: http://www.partybusseattle.com/covington_bars.html"
   ]
  },
  {
   "cell_type": "code",
   "execution_count": 11,
   "metadata": {
    "collapsed": false
   },
   "outputs": [
    {
     "name": "stdout",
     "output_type": "stream",
     "text": [
      "[<h5>\\nApplebee's\\n</h5>]\n",
      "MONTYWASHERE\n",
      "[<h5>\\nApplebee's\\n</h5>]\n",
      "MONTYWASHERE\n",
      "[<h5>\\nApplebee's\\n</h5>]\n",
      "MONTYWASHERE\n",
      "[<h5>\\nApplebee's\\n</h5>]\n",
      "MONTYWASHERE\n",
      "[<h5>\\nApplebee's\\n</h5>]\n",
      "MONTYWASHERE\n",
      "[<h5>\\nApplebee's\\n</h5>]\n",
      "MONTYWASHERE\n",
      "[<h5>\\nApplebee's\\n</h5>]\n",
      "MONTYWASHERE\n",
      "[<h5>\\nApplebee's\\n</h5>]\n",
      "MONTYWASHERE\n",
      "[<h5>\\nApplebee's\\n</h5>]\n",
      "MONTYWASHERE\n",
      "[<h5>\\nApplebee's\\n</h5>]\n",
      "MONTYWASHERE\n",
      "[<h5>\\nApplebee's\\n</h5>]\n",
      "MONTYWASHERE\n",
      "[<h5>\\nApplebee's\\n</h5>]\n",
      "MONTYWASHERE\n",
      "[<h5>\\nApplebee's\\n</h5>]\n",
      "MONTYWASHERE\n",
      "[<h5>\\nApplebee's\\n</h5>]\n",
      "MONTYWASHERE\n",
      "[<h5>\\nApplebee's\\n</h5>]\n",
      "MONTYWASHERE\n",
      "[<h5>\\nApplebee's\\n</h5>]\n",
      "MONTYWASHERE\n",
      "[<h5>\\nApplebee's\\n</h5>]\n",
      "MONTYWASHERE\n",
      "[<h5>\\nApplebee's\\n</h5>]\n",
      "MONTYWASHERE\n",
      "[<h5>\\nApplebee's\\n</h5>]\n",
      "MONTYWASHERE\n",
      "[<h5>\\nApplebee's\\n</h5>]\n",
      "MONTYWASHERE\n",
      "[<h5>\\nApplebee's\\n</h5>]\n",
      "MONTYWASHERE\n",
      "[<h5>\\nApplebee's\\n</h5>]\n",
      "MONTYWASHERE\n",
      "[<h5>\\nApplebee's\\n</h5>]\n",
      "MONTYWASHERE\n",
      "[<h5>\\nApplebee's\\n</h5>]\n",
      "MONTYWASHERE\n"
     ]
    }
   ],
   "source": [
    "from bs4 import BeautifulSoup\n",
    "import urllib2\n",
    "import lxml\n",
    "import csv\n",
    "\n",
    "# Trying\n",
    "\n",
    "page = urllib2.urlopen(\"http://www.partybusseattle.com/covington_bars.html\")\n",
    "soup = BeautifulSoup(page)\n",
    "food = soup.find_all(\"div\", \"five_veh columns\") #finding the table\n",
    "# Initialy ran with test print to make sure it worked and then went back and started to break the code down.\n",
    "    \n",
    "site = []\n",
    "location = []\n",
    "phone = []\n",
    "desc = []\n",
    "data = []\n",
    "i = 0\n",
    "\n",
    "for dinner in food:\n",
    "    for row in dinner:\n",
    "        if i == 0:\n",
    "            site.append(row)\n",
    "        if i == 1:\n",
    "            location.append(row)\n",
    "        if i == 2:\n",
    "            phone.append(row)\n",
    "        if i == 3:\n",
    "            desc.append(row)\n",
    "            i = 0\n",
    "        i = i + 1\n",
    "        \n",
    "        \n",
    "        print site \n",
    "        print \"MONTYWASHERE\""
   ]
  },
  {
   "cell_type": "code",
   "execution_count": null,
   "metadata": {
    "collapsed": true
   },
   "outputs": [],
   "source": []
  }
 ],
 "metadata": {
  "kernelspec": {
   "display_name": "Python 2",
   "language": "python",
   "name": "python2"
  },
  "language_info": {
   "codemirror_mode": {
    "name": "ipython",
    "version": 2
   },
   "file_extension": ".py",
   "mimetype": "text/x-python",
   "name": "python",
   "nbconvert_exporter": "python",
   "pygments_lexer": "ipython2",
   "version": "2.7.10"
  }
 },
 "nbformat": 4,
 "nbformat_minor": 0
}
