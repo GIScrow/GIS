{
 "cells": [
  {
   "cell_type": "code",
   "execution_count": 43,
   "metadata": {
    "collapsed": false
   },
   "outputs": [
    {
     "name": "stdout",
     "output_type": "stream",
     "text": [
      "wee\n",
      "Puerto Vallarta is a sensational Mexican restaurant that even offers an impressive buffet. The prices here are in the affordable range and the quality is super high. The chimichanga special is truly mouth watering and we cannot get enough of their famous tortilla soup. Their carne asada is another amazing choice that we'd recommend any day of the week! There is a full bar as well as televisions for watching sports, and though they close up at 11 30 most nights, they are open until 1\n",
      "itemCovington Zip Codes            98042item\n",
      "wee\n",
      "Puerto Vallarta is a sensational Mexican restaurant that even offers an impressive buffet. The prices here are in the affordable range and the quality is super high. The chimichanga special is truly mouth watering and we cannot get enough of their famous tortilla soup. Their carne asada is another amazing choice that we'd recommend any day of the week! There is a full bar as well as televisions for watching sports, and though they close up at 11 30 most nights, they are open until 1\n",
      "itemCovington Zip Codes            98042item\n",
      "wee\n",
      "Puerto Vallarta is a sensational Mexican restaurant that even offers an impressive buffet. The prices here are in the affordable range and the quality is super high. The chimichanga special is truly mouth watering and we cannot get enough of their famous tortilla soup. Their carne asada is another amazing choice that we'd recommend any day of the week! There is a full bar as well as televisions for watching sports, and though they close up at 11 30 most nights, they are open until 1\n",
      "itemCovington Zip Codes            98042item\n",
      "wee\n",
      "Puerto Vallarta is a sensational Mexican restaurant that even offers an impressive buffet. The prices here are in the affordable range and the quality is super high. The chimichanga special is truly mouth watering and we cannot get enough of their famous tortilla soup. Their carne asada is another amazing choice that we'd recommend any day of the week! There is a full bar as well as televisions for watching sports, and though they close up at 11 30 most nights, they are open until 1\n",
      "itemCovington Zip Codes            98042item\n",
      "wee\n",
      "Puerto Vallarta is a sensational Mexican restaurant that even offers an impressive buffet. The prices here are in the affordable range and the quality is super high. The chimichanga special is truly mouth watering and we cannot get enough of their famous tortilla soup. Their carne asada is another amazing choice that we'd recommend any day of the week! There is a full bar as well as televisions for watching sports, and though they close up at 11 30 most nights, they are open until 1\n",
      "itemCovington Zip Codes            98042item\n",
      "wee\n",
      "Puerto Vallarta is a sensational Mexican restaurant that even offers an impressive buffet. The prices here are in the affordable range and the quality is super high. The chimichanga special is truly mouth watering and we cannot get enough of their famous tortilla soup. Their carne asada is another amazing choice that we'd recommend any day of the week! There is a full bar as well as televisions for watching sports, and though they close up at 11 30 most nights, they are open until 1\n",
      "itemCovington Zip Codes            98042item\n"
     ]
    }
   ],
   "source": [
    "from bs4 import BeautifulSoup\n",
    "from bs4 import BeautifulSoup as bs\n",
    "import urllib2\n",
    "import lxml\n",
    "import csv\n",
    "import re\n",
    "\n",
    "page = urllib2.urlopen(\"http://www.partybusseattle.com/covington_bars.html\")\n",
    "soup = BeautifulSoup(page)\n",
    "food = soup.find_all(\"div\", \"five_veh columns\") #finding the table\n",
    "# Initialy ran with test print to make sure it worked and then went back and started to break the code down.\n",
    "    \n",
    "site = []\n",
    "location = []\n",
    "phone = []\n",
    "desc = []\n",
    "data = []\n",
    "item = []\n",
    "i = 0 #getting desperate\n",
    "    \n",
    "for dinner in food:\n",
    "    for item in dinner:\n",
    "        data.append(item)\n",
    "\n",
    "dic = {}\n",
    "# Get the text on the html through BeautifulSou\n",
    "\n",
    "for f in food:\n",
    "    text = soup.get_text('item')\n",
    "\n",
    "# parsing the text\n",
    "    lines = text.splitlines()\n",
    "    print 'wee'\n",
    "    for line in lines:\n",
    "    # check if line has ':', if it doesn't, move to the next line\n",
    "        if line.find(':') == -1: \n",
    "            continue    \n",
    "    # split the string at ':'\n",
    "        parts = line.split(':')\n",
    "    # stripping whitespace\n",
    "        for i in range(len(parts)):\n",
    "            parts[i] = parts[i].strip()    \n",
    "    # adding the vaules to a dictionary\n",
    "            dic[parts[0]] = parts[1]\n",
    "    # printing the data after processing\n",
    "        print '%16s %20s' % (parts[0],parts[1])\n",
    "\n",
    "    \n",
    "    #I got incistant KeyError: 0. I've tried a multatude of methods and just don't seem to be getting how to do this."
   ]
  },
  {
   "cell_type": "code",
   "execution_count": 68,
   "metadata": {
    "collapsed": false
   },
   "outputs": [
    {
     "name": "stdout",
     "output_type": "stream",
     "text": [
      "[<h5>\\nApplebee's\\n</h5>]\n",
      "MONTYWASHERE\n",
      "[<h5>\\nApplebee's\\n</h5>, <p>\\n17040 SE 272nd St, \\nCovington, WA 98042\\n</p>]\n",
      "MONTYWASHERE\n",
      "[<h5>\\nApplebee's\\n</h5>, <p>\\n17040 SE 272nd St, \\nCovington, WA 98042\\n</p>, <p>\\n(253) 856-1900\\n</p>]\n",
      "MONTYWASHERE\n",
      "[<h5>\\nApplebee's\\n</h5>, <p>\\n17040 SE 272nd St, \\nCovington, WA 98042\\n</p>, <p>\\n(253) 856-1900\\n</p>, <p>\\nApplebee's might be a chain restaurant but it's one that is so ideally suited to Party Bus Seattle groups traveling in Covington. They've got an awesome bar area here where you and your party bus group will enjoy chilling and watching sports on TV, while you sip delicious specialty cocktails and nosh on incredible appetizers. As far as the entrees go, we are madly in love with the garlic sirloin with redskin potatoes and stuffed mushroom caps. Absolutely delicious. They've got really good wings too if you're in the mood for bar fare!\\n</p>]\n",
      "MONTYWASHERE\n",
      "[<h5>\\nApplebee's\\n</h5>, <p>\\n17040 SE 272nd St, \\nCovington, WA 98042\\n</p>, <p>\\n(253) 856-1900\\n</p>, <p>\\nApplebee's might be a chain restaurant but it's one that is so ideally suited to Party Bus Seattle groups traveling in Covington. They've got an awesome bar area here where you and your party bus group will enjoy chilling and watching sports on TV, while you sip delicious specialty cocktails and nosh on incredible appetizers. As far as the entrees go, we are madly in love with the garlic sirloin with redskin potatoes and stuffed mushroom caps. Absolutely delicious. They've got really good wings too if you're in the mood for bar fare!\\n</p>, <h5>\\nTrapper's Sushi\\n</h5>]\n",
      "MONTYWASHERE\n",
      "[<h5>\\nApplebee's\\n</h5>, <p>\\n17040 SE 272nd St, \\nCovington, WA 98042\\n</p>, <p>\\n(253) 856-1900\\n</p>, <p>\\nApplebee's might be a chain restaurant but it's one that is so ideally suited to Party Bus Seattle groups traveling in Covington. They've got an awesome bar area here where you and your party bus group will enjoy chilling and watching sports on TV, while you sip delicious specialty cocktails and nosh on incredible appetizers. As far as the entrees go, we are madly in love with the garlic sirloin with redskin potatoes and stuffed mushroom caps. Absolutely delicious. They've got really good wings too if you're in the mood for bar fare!\\n</p>, <h5>\\nTrapper's Sushi\\n</h5>, <p>\\n16908 SE 269th Pl, \\nCovington, WA 98042\\n</p>]\n",
      "MONTYWASHERE\n",
      "[<h5>\\nApplebee's\\n</h5>, <p>\\n17040 SE 272nd St, \\nCovington, WA 98042\\n</p>, <p>\\n(253) 856-1900\\n</p>, <p>\\nApplebee's might be a chain restaurant but it's one that is so ideally suited to Party Bus Seattle groups traveling in Covington. They've got an awesome bar area here where you and your party bus group will enjoy chilling and watching sports on TV, while you sip delicious specialty cocktails and nosh on incredible appetizers. As far as the entrees go, we are madly in love with the garlic sirloin with redskin potatoes and stuffed mushroom caps. Absolutely delicious. They've got really good wings too if you're in the mood for bar fare!\\n</p>, <h5>\\nTrapper's Sushi\\n</h5>, <p>\\n16908 SE 269th Pl, \\nCovington, WA 98042\\n</p>, <p>\\n(253) 277-0926\\n</p>]\n",
      "MONTYWASHERE\n",
      "[<h5>\\nApplebee's\\n</h5>, <p>\\n17040 SE 272nd St, \\nCovington, WA 98042\\n</p>, <p>\\n(253) 856-1900\\n</p>, <p>\\nApplebee's might be a chain restaurant but it's one that is so ideally suited to Party Bus Seattle groups traveling in Covington. They've got an awesome bar area here where you and your party bus group will enjoy chilling and watching sports on TV, while you sip delicious specialty cocktails and nosh on incredible appetizers. As far as the entrees go, we are madly in love with the garlic sirloin with redskin potatoes and stuffed mushroom caps. Absolutely delicious. They've got really good wings too if you're in the mood for bar fare!\\n</p>, <h5>\\nTrapper's Sushi\\n</h5>, <p>\\n16908 SE 269th Pl, \\nCovington, WA 98042\\n</p>, <p>\\n(253) 277-0926\\n</p>, <p>\\nTrapper's Sushi is a delightful Japanese restaurant and sushi bar that will be such a great destination for your Party Bus Seattle groups in Covington. They've got such outstanding maki selections here, including our favorites, the spider roll and the Philly roll. We always judge a sushi restaurant by the quality of their salmon roe nigiri, and we're happy to say that theirs is off-the-charts delish! The sake selection is impressive and very tasty, and what better way to wash down a stellar meal of sushi and sashimi than that? Love it!\\n</p>]\n",
      "MONTYWASHERE\n",
      "[<h5>\\nApplebee's\\n</h5>, <p>\\n17040 SE 272nd St, \\nCovington, WA 98042\\n</p>, <p>\\n(253) 856-1900\\n</p>, <p>\\nApplebee's might be a chain restaurant but it's one that is so ideally suited to Party Bus Seattle groups traveling in Covington. They've got an awesome bar area here where you and your party bus group will enjoy chilling and watching sports on TV, while you sip delicious specialty cocktails and nosh on incredible appetizers. As far as the entrees go, we are madly in love with the garlic sirloin with redskin potatoes and stuffed mushroom caps. Absolutely delicious. They've got really good wings too if you're in the mood for bar fare!\\n</p>, <h5>\\nTrapper's Sushi\\n</h5>, <p>\\n16908 SE 269th Pl, \\nCovington, WA 98042\\n</p>, <p>\\n(253) 277-0926\\n</p>, <p>\\nTrapper's Sushi is a delightful Japanese restaurant and sushi bar that will be such a great destination for your Party Bus Seattle groups in Covington. They've got such outstanding maki selections here, including our favorites, the spider roll and the Philly roll. We always judge a sushi restaurant by the quality of their salmon roe nigiri, and we're happy to say that theirs is off-the-charts delish! The sake selection is impressive and very tasty, and what better way to wash down a stellar meal of sushi and sashimi than that? Love it!\\n</p>, <h5>\\nRed Robin\\n</h5>]\n",
      "MONTYWASHERE\n",
      "[<h5>\\nApplebee's\\n</h5>, <p>\\n17040 SE 272nd St, \\nCovington, WA 98042\\n</p>, <p>\\n(253) 856-1900\\n</p>, <p>\\nApplebee's might be a chain restaurant but it's one that is so ideally suited to Party Bus Seattle groups traveling in Covington. They've got an awesome bar area here where you and your party bus group will enjoy chilling and watching sports on TV, while you sip delicious specialty cocktails and nosh on incredible appetizers. As far as the entrees go, we are madly in love with the garlic sirloin with redskin potatoes and stuffed mushroom caps. Absolutely delicious. They've got really good wings too if you're in the mood for bar fare!\\n</p>, <h5>\\nTrapper's Sushi\\n</h5>, <p>\\n16908 SE 269th Pl, \\nCovington, WA 98042\\n</p>, <p>\\n(253) 277-0926\\n</p>, <p>\\nTrapper's Sushi is a delightful Japanese restaurant and sushi bar that will be such a great destination for your Party Bus Seattle groups in Covington. They've got such outstanding maki selections here, including our favorites, the spider roll and the Philly roll. We always judge a sushi restaurant by the quality of their salmon roe nigiri, and we're happy to say that theirs is off-the-charts delish! The sake selection is impressive and very tasty, and what better way to wash down a stellar meal of sushi and sashimi than that? Love it!\\n</p>, <h5>\\nRed Robin\\n</h5>, <p>\\n27193 185th Avenue SE, \\nCovington, WA 98042\\n</p>]\n",
      "MONTYWASHERE\n",
      "[<h5>\\nApplebee's\\n</h5>, <p>\\n17040 SE 272nd St, \\nCovington, WA 98042\\n</p>, <p>\\n(253) 856-1900\\n</p>, <p>\\nApplebee's might be a chain restaurant but it's one that is so ideally suited to Party Bus Seattle groups traveling in Covington. They've got an awesome bar area here where you and your party bus group will enjoy chilling and watching sports on TV, while you sip delicious specialty cocktails and nosh on incredible appetizers. As far as the entrees go, we are madly in love with the garlic sirloin with redskin potatoes and stuffed mushroom caps. Absolutely delicious. They've got really good wings too if you're in the mood for bar fare!\\n</p>, <h5>\\nTrapper's Sushi\\n</h5>, <p>\\n16908 SE 269th Pl, \\nCovington, WA 98042\\n</p>, <p>\\n(253) 277-0926\\n</p>, <p>\\nTrapper's Sushi is a delightful Japanese restaurant and sushi bar that will be such a great destination for your Party Bus Seattle groups in Covington. They've got such outstanding maki selections here, including our favorites, the spider roll and the Philly roll. We always judge a sushi restaurant by the quality of their salmon roe nigiri, and we're happy to say that theirs is off-the-charts delish! The sake selection is impressive and very tasty, and what better way to wash down a stellar meal of sushi and sashimi than that? Love it!\\n</p>, <h5>\\nRed Robin\\n</h5>, <p>\\n27193 185th Avenue SE, \\nCovington, WA 98042\\n</p>, <p>\\nPhone number (253) 630-5441\\n</p>]\n",
      "MONTYWASHERE\n",
      "[<h5>\\nApplebee's\\n</h5>, <p>\\n17040 SE 272nd St, \\nCovington, WA 98042\\n</p>, <p>\\n(253) 856-1900\\n</p>, <p>\\nApplebee's might be a chain restaurant but it's one that is so ideally suited to Party Bus Seattle groups traveling in Covington. They've got an awesome bar area here where you and your party bus group will enjoy chilling and watching sports on TV, while you sip delicious specialty cocktails and nosh on incredible appetizers. As far as the entrees go, we are madly in love with the garlic sirloin with redskin potatoes and stuffed mushroom caps. Absolutely delicious. They've got really good wings too if you're in the mood for bar fare!\\n</p>, <h5>\\nTrapper's Sushi\\n</h5>, <p>\\n16908 SE 269th Pl, \\nCovington, WA 98042\\n</p>, <p>\\n(253) 277-0926\\n</p>, <p>\\nTrapper's Sushi is a delightful Japanese restaurant and sushi bar that will be such a great destination for your Party Bus Seattle groups in Covington. They've got such outstanding maki selections here, including our favorites, the spider roll and the Philly roll. We always judge a sushi restaurant by the quality of their salmon roe nigiri, and we're happy to say that theirs is off-the-charts delish! The sake selection is impressive and very tasty, and what better way to wash down a stellar meal of sushi and sashimi than that? Love it!\\n</p>, <h5>\\nRed Robin\\n</h5>, <p>\\n27193 185th Avenue SE, \\nCovington, WA 98042\\n</p>, <p>\\nPhone number (253) 630-5441\\n</p>, <p>\\nRed Robin is another chain that we really like. Enough Party Bus Seattle groups in the Covington area have chosen this one as their dining destination that we had to perk up and take notice! They've got really tasty burgers that are juicy and perfectly cooked to order. The array of specialty burgers is always impressive and they're always offering new seasonal specialties to keep things fresh. If you're not a burger lover, they have fantastic entrees and salads too, and even mouth watering milkshakes! We recommend the mint brownie. Mmm!\\n</p>]\n",
      "MONTYWASHERE\n",
      "[<h5>\\nApplebee's\\n</h5>, <p>\\n17040 SE 272nd St, \\nCovington, WA 98042\\n</p>, <p>\\n(253) 856-1900\\n</p>, <p>\\nApplebee's might be a chain restaurant but it's one that is so ideally suited to Party Bus Seattle groups traveling in Covington. They've got an awesome bar area here where you and your party bus group will enjoy chilling and watching sports on TV, while you sip delicious specialty cocktails and nosh on incredible appetizers. As far as the entrees go, we are madly in love with the garlic sirloin with redskin potatoes and stuffed mushroom caps. Absolutely delicious. They've got really good wings too if you're in the mood for bar fare!\\n</p>, <h5>\\nTrapper's Sushi\\n</h5>, <p>\\n16908 SE 269th Pl, \\nCovington, WA 98042\\n</p>, <p>\\n(253) 277-0926\\n</p>, <p>\\nTrapper's Sushi is a delightful Japanese restaurant and sushi bar that will be such a great destination for your Party Bus Seattle groups in Covington. They've got such outstanding maki selections here, including our favorites, the spider roll and the Philly roll. We always judge a sushi restaurant by the quality of their salmon roe nigiri, and we're happy to say that theirs is off-the-charts delish! The sake selection is impressive and very tasty, and what better way to wash down a stellar meal of sushi and sashimi than that? Love it!\\n</p>, <h5>\\nRed Robin\\n</h5>, <p>\\n27193 185th Avenue SE, \\nCovington, WA 98042\\n</p>, <p>\\nPhone number (253) 630-5441\\n</p>, <p>\\nRed Robin is another chain that we really like. Enough Party Bus Seattle groups in the Covington area have chosen this one as their dining destination that we had to perk up and take notice! They've got really tasty burgers that are juicy and perfectly cooked to order. The array of specialty burgers is always impressive and they're always offering new seasonal specialties to keep things fresh. If you're not a burger lover, they have fantastic entrees and salads too, and even mouth watering milkshakes! We recommend the mint brownie. Mmm!\\n</p>, <h5>\\nNikki's Restaurant &amp; Lounge\\n</h5>]\n",
      "MONTYWASHERE\n",
      "[<h5>\\nApplebee's\\n</h5>, <p>\\n17040 SE 272nd St, \\nCovington, WA 98042\\n</p>, <p>\\n(253) 856-1900\\n</p>, <p>\\nApplebee's might be a chain restaurant but it's one that is so ideally suited to Party Bus Seattle groups traveling in Covington. They've got an awesome bar area here where you and your party bus group will enjoy chilling and watching sports on TV, while you sip delicious specialty cocktails and nosh on incredible appetizers. As far as the entrees go, we are madly in love with the garlic sirloin with redskin potatoes and stuffed mushroom caps. Absolutely delicious. They've got really good wings too if you're in the mood for bar fare!\\n</p>, <h5>\\nTrapper's Sushi\\n</h5>, <p>\\n16908 SE 269th Pl, \\nCovington, WA 98042\\n</p>, <p>\\n(253) 277-0926\\n</p>, <p>\\nTrapper's Sushi is a delightful Japanese restaurant and sushi bar that will be such a great destination for your Party Bus Seattle groups in Covington. They've got such outstanding maki selections here, including our favorites, the spider roll and the Philly roll. We always judge a sushi restaurant by the quality of their salmon roe nigiri, and we're happy to say that theirs is off-the-charts delish! The sake selection is impressive and very tasty, and what better way to wash down a stellar meal of sushi and sashimi than that? Love it!\\n</p>, <h5>\\nRed Robin\\n</h5>, <p>\\n27193 185th Avenue SE, \\nCovington, WA 98042\\n</p>, <p>\\nPhone number (253) 630-5441\\n</p>, <p>\\nRed Robin is another chain that we really like. Enough Party Bus Seattle groups in the Covington area have chosen this one as their dining destination that we had to perk up and take notice! They've got really tasty burgers that are juicy and perfectly cooked to order. The array of specialty burgers is always impressive and they're always offering new seasonal specialties to keep things fresh. If you're not a burger lover, they have fantastic entrees and salads too, and even mouth watering milkshakes! We recommend the mint brownie. Mmm!\\n</p>, <h5>\\nNikki's Restaurant &amp; Lounge\\n</h5>, <p>\\n27120 174th Pl SE, \\nCovington, WA 98042\\n</p>]\n",
      "MONTYWASHERE\n",
      "[<h5>\\nApplebee's\\n</h5>, <p>\\n17040 SE 272nd St, \\nCovington, WA 98042\\n</p>, <p>\\n(253) 856-1900\\n</p>, <p>\\nApplebee's might be a chain restaurant but it's one that is so ideally suited to Party Bus Seattle groups traveling in Covington. They've got an awesome bar area here where you and your party bus group will enjoy chilling and watching sports on TV, while you sip delicious specialty cocktails and nosh on incredible appetizers. As far as the entrees go, we are madly in love with the garlic sirloin with redskin potatoes and stuffed mushroom caps. Absolutely delicious. They've got really good wings too if you're in the mood for bar fare!\\n</p>, <h5>\\nTrapper's Sushi\\n</h5>, <p>\\n16908 SE 269th Pl, \\nCovington, WA 98042\\n</p>, <p>\\n(253) 277-0926\\n</p>, <p>\\nTrapper's Sushi is a delightful Japanese restaurant and sushi bar that will be such a great destination for your Party Bus Seattle groups in Covington. They've got such outstanding maki selections here, including our favorites, the spider roll and the Philly roll. We always judge a sushi restaurant by the quality of their salmon roe nigiri, and we're happy to say that theirs is off-the-charts delish! The sake selection is impressive and very tasty, and what better way to wash down a stellar meal of sushi and sashimi than that? Love it!\\n</p>, <h5>\\nRed Robin\\n</h5>, <p>\\n27193 185th Avenue SE, \\nCovington, WA 98042\\n</p>, <p>\\nPhone number (253) 630-5441\\n</p>, <p>\\nRed Robin is another chain that we really like. Enough Party Bus Seattle groups in the Covington area have chosen this one as their dining destination that we had to perk up and take notice! They've got really tasty burgers that are juicy and perfectly cooked to order. The array of specialty burgers is always impressive and they're always offering new seasonal specialties to keep things fresh. If you're not a burger lover, they have fantastic entrees and salads too, and even mouth watering milkshakes! We recommend the mint brownie. Mmm!\\n</p>, <h5>\\nNikki's Restaurant &amp; Lounge\\n</h5>, <p>\\n27120 174th Pl SE, \\nCovington, WA 98042\\n</p>, <p>\\n(253) 236-5623\\n</p>]\n",
      "MONTYWASHERE\n",
      "[<h5>\\nApplebee's\\n</h5>, <p>\\n17040 SE 272nd St, \\nCovington, WA 98042\\n</p>, <p>\\n(253) 856-1900\\n</p>, <p>\\nApplebee's might be a chain restaurant but it's one that is so ideally suited to Party Bus Seattle groups traveling in Covington. They've got an awesome bar area here where you and your party bus group will enjoy chilling and watching sports on TV, while you sip delicious specialty cocktails and nosh on incredible appetizers. As far as the entrees go, we are madly in love with the garlic sirloin with redskin potatoes and stuffed mushroom caps. Absolutely delicious. They've got really good wings too if you're in the mood for bar fare!\\n</p>, <h5>\\nTrapper's Sushi\\n</h5>, <p>\\n16908 SE 269th Pl, \\nCovington, WA 98042\\n</p>, <p>\\n(253) 277-0926\\n</p>, <p>\\nTrapper's Sushi is a delightful Japanese restaurant and sushi bar that will be such a great destination for your Party Bus Seattle groups in Covington. They've got such outstanding maki selections here, including our favorites, the spider roll and the Philly roll. We always judge a sushi restaurant by the quality of their salmon roe nigiri, and we're happy to say that theirs is off-the-charts delish! The sake selection is impressive and very tasty, and what better way to wash down a stellar meal of sushi and sashimi than that? Love it!\\n</p>, <h5>\\nRed Robin\\n</h5>, <p>\\n27193 185th Avenue SE, \\nCovington, WA 98042\\n</p>, <p>\\nPhone number (253) 630-5441\\n</p>, <p>\\nRed Robin is another chain that we really like. Enough Party Bus Seattle groups in the Covington area have chosen this one as their dining destination that we had to perk up and take notice! They've got really tasty burgers that are juicy and perfectly cooked to order. The array of specialty burgers is always impressive and they're always offering new seasonal specialties to keep things fresh. If you're not a burger lover, they have fantastic entrees and salads too, and even mouth watering milkshakes! We recommend the mint brownie. Mmm!\\n</p>, <h5>\\nNikki's Restaurant &amp; Lounge\\n</h5>, <p>\\n27120 174th Pl SE, \\nCovington, WA 98042\\n</p>, <p>\\n(253) 236-5623\\n</p>, <p>\\nNikki's Restaurant &amp; Lounge is a cozy diner and bar that is well known to our Party Bus Seattle partygoers in the Covington vicinity. They offer a full bar and even televisions so that you can keep an eye on the game while you nosh and chat with your friends. It's not fancy here, just simple and good, with nice happy hour prices that will really put a smile on your face. If you've got a sweet tooth, don't shy away from their homemade cinnamon rolls. If you're there for breakfast, they've got scrambles that will really please your tastebuds.\\n</p>]\n",
      "MONTYWASHERE\n",
      "[<h5>\\nApplebee's\\n</h5>, <p>\\n17040 SE 272nd St, \\nCovington, WA 98042\\n</p>, <p>\\n(253) 856-1900\\n</p>, <p>\\nApplebee's might be a chain restaurant but it's one that is so ideally suited to Party Bus Seattle groups traveling in Covington. They've got an awesome bar area here where you and your party bus group will enjoy chilling and watching sports on TV, while you sip delicious specialty cocktails and nosh on incredible appetizers. As far as the entrees go, we are madly in love with the garlic sirloin with redskin potatoes and stuffed mushroom caps. Absolutely delicious. They've got really good wings too if you're in the mood for bar fare!\\n</p>, <h5>\\nTrapper's Sushi\\n</h5>, <p>\\n16908 SE 269th Pl, \\nCovington, WA 98042\\n</p>, <p>\\n(253) 277-0926\\n</p>, <p>\\nTrapper's Sushi is a delightful Japanese restaurant and sushi bar that will be such a great destination for your Party Bus Seattle groups in Covington. They've got such outstanding maki selections here, including our favorites, the spider roll and the Philly roll. We always judge a sushi restaurant by the quality of their salmon roe nigiri, and we're happy to say that theirs is off-the-charts delish! The sake selection is impressive and very tasty, and what better way to wash down a stellar meal of sushi and sashimi than that? Love it!\\n</p>, <h5>\\nRed Robin\\n</h5>, <p>\\n27193 185th Avenue SE, \\nCovington, WA 98042\\n</p>, <p>\\nPhone number (253) 630-5441\\n</p>, <p>\\nRed Robin is another chain that we really like. Enough Party Bus Seattle groups in the Covington area have chosen this one as their dining destination that we had to perk up and take notice! They've got really tasty burgers that are juicy and perfectly cooked to order. The array of specialty burgers is always impressive and they're always offering new seasonal specialties to keep things fresh. If you're not a burger lover, they have fantastic entrees and salads too, and even mouth watering milkshakes! We recommend the mint brownie. Mmm!\\n</p>, <h5>\\nNikki's Restaurant &amp; Lounge\\n</h5>, <p>\\n27120 174th Pl SE, \\nCovington, WA 98042\\n</p>, <p>\\n(253) 236-5623\\n</p>, <p>\\nNikki's Restaurant &amp; Lounge is a cozy diner and bar that is well known to our Party Bus Seattle partygoers in the Covington vicinity. They offer a full bar and even televisions so that you can keep an eye on the game while you nosh and chat with your friends. It's not fancy here, just simple and good, with nice happy hour prices that will really put a smile on your face. If you've got a sweet tooth, don't shy away from their homemade cinnamon rolls. If you're there for breakfast, they've got scrambles that will really please your tastebuds.\\n</p>, <h5>\\nMizu Japanese Steak House\\n</h5>]\n",
      "MONTYWASHERE\n",
      "[<h5>\\nApplebee's\\n</h5>, <p>\\n17040 SE 272nd St, \\nCovington, WA 98042\\n</p>, <p>\\n(253) 856-1900\\n</p>, <p>\\nApplebee's might be a chain restaurant but it's one that is so ideally suited to Party Bus Seattle groups traveling in Covington. They've got an awesome bar area here where you and your party bus group will enjoy chilling and watching sports on TV, while you sip delicious specialty cocktails and nosh on incredible appetizers. As far as the entrees go, we are madly in love with the garlic sirloin with redskin potatoes and stuffed mushroom caps. Absolutely delicious. They've got really good wings too if you're in the mood for bar fare!\\n</p>, <h5>\\nTrapper's Sushi\\n</h5>, <p>\\n16908 SE 269th Pl, \\nCovington, WA 98042\\n</p>, <p>\\n(253) 277-0926\\n</p>, <p>\\nTrapper's Sushi is a delightful Japanese restaurant and sushi bar that will be such a great destination for your Party Bus Seattle groups in Covington. They've got such outstanding maki selections here, including our favorites, the spider roll and the Philly roll. We always judge a sushi restaurant by the quality of their salmon roe nigiri, and we're happy to say that theirs is off-the-charts delish! The sake selection is impressive and very tasty, and what better way to wash down a stellar meal of sushi and sashimi than that? Love it!\\n</p>, <h5>\\nRed Robin\\n</h5>, <p>\\n27193 185th Avenue SE, \\nCovington, WA 98042\\n</p>, <p>\\nPhone number (253) 630-5441\\n</p>, <p>\\nRed Robin is another chain that we really like. Enough Party Bus Seattle groups in the Covington area have chosen this one as their dining destination that we had to perk up and take notice! They've got really tasty burgers that are juicy and perfectly cooked to order. The array of specialty burgers is always impressive and they're always offering new seasonal specialties to keep things fresh. If you're not a burger lover, they have fantastic entrees and salads too, and even mouth watering milkshakes! We recommend the mint brownie. Mmm!\\n</p>, <h5>\\nNikki's Restaurant &amp; Lounge\\n</h5>, <p>\\n27120 174th Pl SE, \\nCovington, WA 98042\\n</p>, <p>\\n(253) 236-5623\\n</p>, <p>\\nNikki's Restaurant &amp; Lounge is a cozy diner and bar that is well known to our Party Bus Seattle partygoers in the Covington vicinity. They offer a full bar and even televisions so that you can keep an eye on the game while you nosh and chat with your friends. It's not fancy here, just simple and good, with nice happy hour prices that will really put a smile on your face. If you've got a sweet tooth, don't shy away from their homemade cinnamon rolls. If you're there for breakfast, they've got scrambles that will really please your tastebuds.\\n</p>, <h5>\\nMizu Japanese Steak House\\n</h5>, <p>\\n27149 185th Ave SE, \\nCovington, WA 98042\\n</p>]\n",
      "MONTYWASHERE\n",
      "[<h5>\\nApplebee's\\n</h5>, <p>\\n17040 SE 272nd St, \\nCovington, WA 98042\\n</p>, <p>\\n(253) 856-1900\\n</p>, <p>\\nApplebee's might be a chain restaurant but it's one that is so ideally suited to Party Bus Seattle groups traveling in Covington. They've got an awesome bar area here where you and your party bus group will enjoy chilling and watching sports on TV, while you sip delicious specialty cocktails and nosh on incredible appetizers. As far as the entrees go, we are madly in love with the garlic sirloin with redskin potatoes and stuffed mushroom caps. Absolutely delicious. They've got really good wings too if you're in the mood for bar fare!\\n</p>, <h5>\\nTrapper's Sushi\\n</h5>, <p>\\n16908 SE 269th Pl, \\nCovington, WA 98042\\n</p>, <p>\\n(253) 277-0926\\n</p>, <p>\\nTrapper's Sushi is a delightful Japanese restaurant and sushi bar that will be such a great destination for your Party Bus Seattle groups in Covington. They've got such outstanding maki selections here, including our favorites, the spider roll and the Philly roll. We always judge a sushi restaurant by the quality of their salmon roe nigiri, and we're happy to say that theirs is off-the-charts delish! The sake selection is impressive and very tasty, and what better way to wash down a stellar meal of sushi and sashimi than that? Love it!\\n</p>, <h5>\\nRed Robin\\n</h5>, <p>\\n27193 185th Avenue SE, \\nCovington, WA 98042\\n</p>, <p>\\nPhone number (253) 630-5441\\n</p>, <p>\\nRed Robin is another chain that we really like. Enough Party Bus Seattle groups in the Covington area have chosen this one as their dining destination that we had to perk up and take notice! They've got really tasty burgers that are juicy and perfectly cooked to order. The array of specialty burgers is always impressive and they're always offering new seasonal specialties to keep things fresh. If you're not a burger lover, they have fantastic entrees and salads too, and even mouth watering milkshakes! We recommend the mint brownie. Mmm!\\n</p>, <h5>\\nNikki's Restaurant &amp; Lounge\\n</h5>, <p>\\n27120 174th Pl SE, \\nCovington, WA 98042\\n</p>, <p>\\n(253) 236-5623\\n</p>, <p>\\nNikki's Restaurant &amp; Lounge is a cozy diner and bar that is well known to our Party Bus Seattle partygoers in the Covington vicinity. They offer a full bar and even televisions so that you can keep an eye on the game while you nosh and chat with your friends. It's not fancy here, just simple and good, with nice happy hour prices that will really put a smile on your face. If you've got a sweet tooth, don't shy away from their homemade cinnamon rolls. If you're there for breakfast, they've got scrambles that will really please your tastebuds.\\n</p>, <h5>\\nMizu Japanese Steak House\\n</h5>, <p>\\n27149 185th Ave SE, \\nCovington, WA 98042\\n</p>, <p>\\n(253) 638-1317\\n</p>]\n",
      "MONTYWASHERE\n",
      "[<h5>\\nApplebee's\\n</h5>, <p>\\n17040 SE 272nd St, \\nCovington, WA 98042\\n</p>, <p>\\n(253) 856-1900\\n</p>, <p>\\nApplebee's might be a chain restaurant but it's one that is so ideally suited to Party Bus Seattle groups traveling in Covington. They've got an awesome bar area here where you and your party bus group will enjoy chilling and watching sports on TV, while you sip delicious specialty cocktails and nosh on incredible appetizers. As far as the entrees go, we are madly in love with the garlic sirloin with redskin potatoes and stuffed mushroom caps. Absolutely delicious. They've got really good wings too if you're in the mood for bar fare!\\n</p>, <h5>\\nTrapper's Sushi\\n</h5>, <p>\\n16908 SE 269th Pl, \\nCovington, WA 98042\\n</p>, <p>\\n(253) 277-0926\\n</p>, <p>\\nTrapper's Sushi is a delightful Japanese restaurant and sushi bar that will be such a great destination for your Party Bus Seattle groups in Covington. They've got such outstanding maki selections here, including our favorites, the spider roll and the Philly roll. We always judge a sushi restaurant by the quality of their salmon roe nigiri, and we're happy to say that theirs is off-the-charts delish! The sake selection is impressive and very tasty, and what better way to wash down a stellar meal of sushi and sashimi than that? Love it!\\n</p>, <h5>\\nRed Robin\\n</h5>, <p>\\n27193 185th Avenue SE, \\nCovington, WA 98042\\n</p>, <p>\\nPhone number (253) 630-5441\\n</p>, <p>\\nRed Robin is another chain that we really like. Enough Party Bus Seattle groups in the Covington area have chosen this one as their dining destination that we had to perk up and take notice! They've got really tasty burgers that are juicy and perfectly cooked to order. The array of specialty burgers is always impressive and they're always offering new seasonal specialties to keep things fresh. If you're not a burger lover, they have fantastic entrees and salads too, and even mouth watering milkshakes! We recommend the mint brownie. Mmm!\\n</p>, <h5>\\nNikki's Restaurant &amp; Lounge\\n</h5>, <p>\\n27120 174th Pl SE, \\nCovington, WA 98042\\n</p>, <p>\\n(253) 236-5623\\n</p>, <p>\\nNikki's Restaurant &amp; Lounge is a cozy diner and bar that is well known to our Party Bus Seattle partygoers in the Covington vicinity. They offer a full bar and even televisions so that you can keep an eye on the game while you nosh and chat with your friends. It's not fancy here, just simple and good, with nice happy hour prices that will really put a smile on your face. If you've got a sweet tooth, don't shy away from their homemade cinnamon rolls. If you're there for breakfast, they've got scrambles that will really please your tastebuds.\\n</p>, <h5>\\nMizu Japanese Steak House\\n</h5>, <p>\\n27149 185th Ave SE, \\nCovington, WA 98042\\n</p>, <p>\\n(253) 638-1317\\n</p>, <p>\\nMizu Japanese Steak House is a sushi bar and seafood/steakhouse style restaurant that will entice your tastebuds to no end. If you love teppanyaki style cooking, you'll really enjoy the entertainment that comes along with that, and the quality of the food is undeniable. Their fried rice is some of the best that we have ever tasted. The space is large and they have lots of windows to let the light in. There is a full bar here, not just sake, so you can enjoy whatever drink your little heart is in the mood for. Free wi-fi and televisions as well! Very nice.\\n</p>]\n",
      "MONTYWASHERE\n",
      "[<h5>\\nApplebee's\\n</h5>, <p>\\n17040 SE 272nd St, \\nCovington, WA 98042\\n</p>, <p>\\n(253) 856-1900\\n</p>, <p>\\nApplebee's might be a chain restaurant but it's one that is so ideally suited to Party Bus Seattle groups traveling in Covington. They've got an awesome bar area here where you and your party bus group will enjoy chilling and watching sports on TV, while you sip delicious specialty cocktails and nosh on incredible appetizers. As far as the entrees go, we are madly in love with the garlic sirloin with redskin potatoes and stuffed mushroom caps. Absolutely delicious. They've got really good wings too if you're in the mood for bar fare!\\n</p>, <h5>\\nTrapper's Sushi\\n</h5>, <p>\\n16908 SE 269th Pl, \\nCovington, WA 98042\\n</p>, <p>\\n(253) 277-0926\\n</p>, <p>\\nTrapper's Sushi is a delightful Japanese restaurant and sushi bar that will be such a great destination for your Party Bus Seattle groups in Covington. They've got such outstanding maki selections here, including our favorites, the spider roll and the Philly roll. We always judge a sushi restaurant by the quality of their salmon roe nigiri, and we're happy to say that theirs is off-the-charts delish! The sake selection is impressive and very tasty, and what better way to wash down a stellar meal of sushi and sashimi than that? Love it!\\n</p>, <h5>\\nRed Robin\\n</h5>, <p>\\n27193 185th Avenue SE, \\nCovington, WA 98042\\n</p>, <p>\\nPhone number (253) 630-5441\\n</p>, <p>\\nRed Robin is another chain that we really like. Enough Party Bus Seattle groups in the Covington area have chosen this one as their dining destination that we had to perk up and take notice! They've got really tasty burgers that are juicy and perfectly cooked to order. The array of specialty burgers is always impressive and they're always offering new seasonal specialties to keep things fresh. If you're not a burger lover, they have fantastic entrees and salads too, and even mouth watering milkshakes! We recommend the mint brownie. Mmm!\\n</p>, <h5>\\nNikki's Restaurant &amp; Lounge\\n</h5>, <p>\\n27120 174th Pl SE, \\nCovington, WA 98042\\n</p>, <p>\\n(253) 236-5623\\n</p>, <p>\\nNikki's Restaurant &amp; Lounge is a cozy diner and bar that is well known to our Party Bus Seattle partygoers in the Covington vicinity. They offer a full bar and even televisions so that you can keep an eye on the game while you nosh and chat with your friends. It's not fancy here, just simple and good, with nice happy hour prices that will really put a smile on your face. If you've got a sweet tooth, don't shy away from their homemade cinnamon rolls. If you're there for breakfast, they've got scrambles that will really please your tastebuds.\\n</p>, <h5>\\nMizu Japanese Steak House\\n</h5>, <p>\\n27149 185th Ave SE, \\nCovington, WA 98042\\n</p>, <p>\\n(253) 638-1317\\n</p>, <p>\\nMizu Japanese Steak House is a sushi bar and seafood/steakhouse style restaurant that will entice your tastebuds to no end. If you love teppanyaki style cooking, you'll really enjoy the entertainment that comes along with that, and the quality of the food is undeniable. Their fried rice is some of the best that we have ever tasted. The space is large and they have lots of windows to let the light in. There is a full bar here, not just sake, so you can enjoy whatever drink your little heart is in the mood for. Free wi-fi and televisions as well! Very nice.\\n</p>, <h5>\\nPuerto Vallarta\\n</h5>]\n",
      "MONTYWASHERE\n",
      "[<h5>\\nApplebee's\\n</h5>, <p>\\n17040 SE 272nd St, \\nCovington, WA 98042\\n</p>, <p>\\n(253) 856-1900\\n</p>, <p>\\nApplebee's might be a chain restaurant but it's one that is so ideally suited to Party Bus Seattle groups traveling in Covington. They've got an awesome bar area here where you and your party bus group will enjoy chilling and watching sports on TV, while you sip delicious specialty cocktails and nosh on incredible appetizers. As far as the entrees go, we are madly in love with the garlic sirloin with redskin potatoes and stuffed mushroom caps. Absolutely delicious. They've got really good wings too if you're in the mood for bar fare!\\n</p>, <h5>\\nTrapper's Sushi\\n</h5>, <p>\\n16908 SE 269th Pl, \\nCovington, WA 98042\\n</p>, <p>\\n(253) 277-0926\\n</p>, <p>\\nTrapper's Sushi is a delightful Japanese restaurant and sushi bar that will be such a great destination for your Party Bus Seattle groups in Covington. They've got such outstanding maki selections here, including our favorites, the spider roll and the Philly roll. We always judge a sushi restaurant by the quality of their salmon roe nigiri, and we're happy to say that theirs is off-the-charts delish! The sake selection is impressive and very tasty, and what better way to wash down a stellar meal of sushi and sashimi than that? Love it!\\n</p>, <h5>\\nRed Robin\\n</h5>, <p>\\n27193 185th Avenue SE, \\nCovington, WA 98042\\n</p>, <p>\\nPhone number (253) 630-5441\\n</p>, <p>\\nRed Robin is another chain that we really like. Enough Party Bus Seattle groups in the Covington area have chosen this one as their dining destination that we had to perk up and take notice! They've got really tasty burgers that are juicy and perfectly cooked to order. The array of specialty burgers is always impressive and they're always offering new seasonal specialties to keep things fresh. If you're not a burger lover, they have fantastic entrees and salads too, and even mouth watering milkshakes! We recommend the mint brownie. Mmm!\\n</p>, <h5>\\nNikki's Restaurant &amp; Lounge\\n</h5>, <p>\\n27120 174th Pl SE, \\nCovington, WA 98042\\n</p>, <p>\\n(253) 236-5623\\n</p>, <p>\\nNikki's Restaurant &amp; Lounge is a cozy diner and bar that is well known to our Party Bus Seattle partygoers in the Covington vicinity. They offer a full bar and even televisions so that you can keep an eye on the game while you nosh and chat with your friends. It's not fancy here, just simple and good, with nice happy hour prices that will really put a smile on your face. If you've got a sweet tooth, don't shy away from their homemade cinnamon rolls. If you're there for breakfast, they've got scrambles that will really please your tastebuds.\\n</p>, <h5>\\nMizu Japanese Steak House\\n</h5>, <p>\\n27149 185th Ave SE, \\nCovington, WA 98042\\n</p>, <p>\\n(253) 638-1317\\n</p>, <p>\\nMizu Japanese Steak House is a sushi bar and seafood/steakhouse style restaurant that will entice your tastebuds to no end. If you love teppanyaki style cooking, you'll really enjoy the entertainment that comes along with that, and the quality of the food is undeniable. Their fried rice is some of the best that we have ever tasted. The space is large and they have lots of windows to let the light in. There is a full bar here, not just sake, so you can enjoy whatever drink your little heart is in the mood for. Free wi-fi and televisions as well! Very nice.\\n</p>, <h5>\\nPuerto Vallarta\\n</h5>, <p>\\n16717 SE 272nd St, \\nCovington, WA 98042\\n</p>]\n",
      "MONTYWASHERE\n",
      "[<h5>\\nApplebee's\\n</h5>, <p>\\n17040 SE 272nd St, \\nCovington, WA 98042\\n</p>, <p>\\n(253) 856-1900\\n</p>, <p>\\nApplebee's might be a chain restaurant but it's one that is so ideally suited to Party Bus Seattle groups traveling in Covington. They've got an awesome bar area here where you and your party bus group will enjoy chilling and watching sports on TV, while you sip delicious specialty cocktails and nosh on incredible appetizers. As far as the entrees go, we are madly in love with the garlic sirloin with redskin potatoes and stuffed mushroom caps. Absolutely delicious. They've got really good wings too if you're in the mood for bar fare!\\n</p>, <h5>\\nTrapper's Sushi\\n</h5>, <p>\\n16908 SE 269th Pl, \\nCovington, WA 98042\\n</p>, <p>\\n(253) 277-0926\\n</p>, <p>\\nTrapper's Sushi is a delightful Japanese restaurant and sushi bar that will be such a great destination for your Party Bus Seattle groups in Covington. They've got such outstanding maki selections here, including our favorites, the spider roll and the Philly roll. We always judge a sushi restaurant by the quality of their salmon roe nigiri, and we're happy to say that theirs is off-the-charts delish! The sake selection is impressive and very tasty, and what better way to wash down a stellar meal of sushi and sashimi than that? Love it!\\n</p>, <h5>\\nRed Robin\\n</h5>, <p>\\n27193 185th Avenue SE, \\nCovington, WA 98042\\n</p>, <p>\\nPhone number (253) 630-5441\\n</p>, <p>\\nRed Robin is another chain that we really like. Enough Party Bus Seattle groups in the Covington area have chosen this one as their dining destination that we had to perk up and take notice! They've got really tasty burgers that are juicy and perfectly cooked to order. The array of specialty burgers is always impressive and they're always offering new seasonal specialties to keep things fresh. If you're not a burger lover, they have fantastic entrees and salads too, and even mouth watering milkshakes! We recommend the mint brownie. Mmm!\\n</p>, <h5>\\nNikki's Restaurant &amp; Lounge\\n</h5>, <p>\\n27120 174th Pl SE, \\nCovington, WA 98042\\n</p>, <p>\\n(253) 236-5623\\n</p>, <p>\\nNikki's Restaurant &amp; Lounge is a cozy diner and bar that is well known to our Party Bus Seattle partygoers in the Covington vicinity. They offer a full bar and even televisions so that you can keep an eye on the game while you nosh and chat with your friends. It's not fancy here, just simple and good, with nice happy hour prices that will really put a smile on your face. If you've got a sweet tooth, don't shy away from their homemade cinnamon rolls. If you're there for breakfast, they've got scrambles that will really please your tastebuds.\\n</p>, <h5>\\nMizu Japanese Steak House\\n</h5>, <p>\\n27149 185th Ave SE, \\nCovington, WA 98042\\n</p>, <p>\\n(253) 638-1317\\n</p>, <p>\\nMizu Japanese Steak House is a sushi bar and seafood/steakhouse style restaurant that will entice your tastebuds to no end. If you love teppanyaki style cooking, you'll really enjoy the entertainment that comes along with that, and the quality of the food is undeniable. Their fried rice is some of the best that we have ever tasted. The space is large and they have lots of windows to let the light in. There is a full bar here, not just sake, so you can enjoy whatever drink your little heart is in the mood for. Free wi-fi and televisions as well! Very nice.\\n</p>, <h5>\\nPuerto Vallarta\\n</h5>, <p>\\n16717 SE 272nd St, \\nCovington, WA 98042\\n</p>, <p>\\n(253) 631-1399\\n</p>]\n",
      "MONTYWASHERE\n",
      "[<h5>\\nApplebee's\\n</h5>, <p>\\n17040 SE 272nd St, \\nCovington, WA 98042\\n</p>, <p>\\n(253) 856-1900\\n</p>, <p>\\nApplebee's might be a chain restaurant but it's one that is so ideally suited to Party Bus Seattle groups traveling in Covington. They've got an awesome bar area here where you and your party bus group will enjoy chilling and watching sports on TV, while you sip delicious specialty cocktails and nosh on incredible appetizers. As far as the entrees go, we are madly in love with the garlic sirloin with redskin potatoes and stuffed mushroom caps. Absolutely delicious. They've got really good wings too if you're in the mood for bar fare!\\n</p>, <h5>\\nTrapper's Sushi\\n</h5>, <p>\\n16908 SE 269th Pl, \\nCovington, WA 98042\\n</p>, <p>\\n(253) 277-0926\\n</p>, <p>\\nTrapper's Sushi is a delightful Japanese restaurant and sushi bar that will be such a great destination for your Party Bus Seattle groups in Covington. They've got such outstanding maki selections here, including our favorites, the spider roll and the Philly roll. We always judge a sushi restaurant by the quality of their salmon roe nigiri, and we're happy to say that theirs is off-the-charts delish! The sake selection is impressive and very tasty, and what better way to wash down a stellar meal of sushi and sashimi than that? Love it!\\n</p>, <h5>\\nRed Robin\\n</h5>, <p>\\n27193 185th Avenue SE, \\nCovington, WA 98042\\n</p>, <p>\\nPhone number (253) 630-5441\\n</p>, <p>\\nRed Robin is another chain that we really like. Enough Party Bus Seattle groups in the Covington area have chosen this one as their dining destination that we had to perk up and take notice! They've got really tasty burgers that are juicy and perfectly cooked to order. The array of specialty burgers is always impressive and they're always offering new seasonal specialties to keep things fresh. If you're not a burger lover, they have fantastic entrees and salads too, and even mouth watering milkshakes! We recommend the mint brownie. Mmm!\\n</p>, <h5>\\nNikki's Restaurant &amp; Lounge\\n</h5>, <p>\\n27120 174th Pl SE, \\nCovington, WA 98042\\n</p>, <p>\\n(253) 236-5623\\n</p>, <p>\\nNikki's Restaurant &amp; Lounge is a cozy diner and bar that is well known to our Party Bus Seattle partygoers in the Covington vicinity. They offer a full bar and even televisions so that you can keep an eye on the game while you nosh and chat with your friends. It's not fancy here, just simple and good, with nice happy hour prices that will really put a smile on your face. If you've got a sweet tooth, don't shy away from their homemade cinnamon rolls. If you're there for breakfast, they've got scrambles that will really please your tastebuds.\\n</p>, <h5>\\nMizu Japanese Steak House\\n</h5>, <p>\\n27149 185th Ave SE, \\nCovington, WA 98042\\n</p>, <p>\\n(253) 638-1317\\n</p>, <p>\\nMizu Japanese Steak House is a sushi bar and seafood/steakhouse style restaurant that will entice your tastebuds to no end. If you love teppanyaki style cooking, you'll really enjoy the entertainment that comes along with that, and the quality of the food is undeniable. Their fried rice is some of the best that we have ever tasted. The space is large and they have lots of windows to let the light in. There is a full bar here, not just sake, so you can enjoy whatever drink your little heart is in the mood for. Free wi-fi and televisions as well! Very nice.\\n</p>, <h5>\\nPuerto Vallarta\\n</h5>, <p>\\n16717 SE 272nd St, \\nCovington, WA 98042\\n</p>, <p>\\n(253) 631-1399\\n</p>, <p>\\nPuerto Vallarta is a sensational Mexican restaurant that even offers an impressive buffet. The prices here are in the affordable range and the quality is super high. The chimichanga special is truly mouth watering and we cannot get enough of their famous tortilla soup. Their carne asada is another amazing choice that we'd recommend any day of the week! There is a full bar as well as televisions for watching sports, and though they close up at 11:30 most nights, they are open until 1:30 am on Fridays and Saturdays. A great weekend destination!\\n</p>]\n",
      "MONTYWASHERE\n"
     ]
    }
   ],
   "source": [
    "from bs4 import BeautifulSoup\n",
    "import urllib2\n",
    "import lxml\n",
    "import csv\n",
    "\n",
    "# Trying\n",
    "\n",
    "page = urllib2.urlopen(\"http://www.partybusseattle.com/covington_bars.html\")\n",
    "soup = BeautifulSoup(page)\n",
    "food = soup.find_all(\"div\", \"five_veh columns\") #finding the table\n",
    "# Initialy ran with test print to make sure it worked and then went back and started to break the code down.\n",
    "    \n",
    "site = []\n",
    "location = []\n",
    "phone = []\n",
    "desc = []\n",
    "data = []\n",
    "i = 0\n",
    "\n",
    "for dinner in food:\n",
    "    for row in dinner:\n",
    "        data.append(row)\n",
    "        print data \n",
    "        print \"MONTYWASHERE\""
   ]
  },
  {
   "cell_type": "code",
   "execution_count": 66,
   "metadata": {
    "collapsed": false
   },
   "outputs": [
    {
     "ename": "KeyError",
     "evalue": "0",
     "output_type": "error",
     "traceback": [
      "\u001b[1;31m---------------------------------------------------------------------------\u001b[0m",
      "\u001b[1;31mKeyError\u001b[0m                                  Traceback (most recent call last)",
      "\u001b[1;32m<ipython-input-66-e273ed6e1a13>\u001b[0m in \u001b[0;36m<module>\u001b[1;34m()\u001b[0m\n\u001b[0;32m      1\u001b[0m \u001b[0mfix\u001b[0m \u001b[1;33m=\u001b[0m \u001b[1;33m[\u001b[0m\u001b[1;33m]\u001b[0m\u001b[1;33m\u001b[0m\u001b[0m\n\u001b[0;32m      2\u001b[0m \u001b[1;32mfor\u001b[0m \u001b[0mi\u001b[0m \u001b[1;32min\u001b[0m \u001b[0mrange\u001b[0m\u001b[1;33m(\u001b[0m\u001b[1;36m4\u001b[0m\u001b[1;33m)\u001b[0m\u001b[1;33m:\u001b[0m\u001b[1;33m\u001b[0m\u001b[0m\n\u001b[1;32m----> 3\u001b[1;33m     \u001b[0mfix\u001b[0m\u001b[1;33m.\u001b[0m\u001b[0mappend\u001b[0m\u001b[1;33m(\u001b[0m\u001b[1;33m[\u001b[0m\u001b[0mrow\u001b[0m\u001b[1;33m[\u001b[0m\u001b[0mi\u001b[0m\u001b[1;33m]\u001b[0m \u001b[1;32mfor\u001b[0m \u001b[0mrow\u001b[0m \u001b[1;32min\u001b[0m \u001b[0mdata\u001b[0m\u001b[1;33m]\u001b[0m\u001b[1;33m)\u001b[0m\u001b[1;33m\u001b[0m\u001b[0m\n\u001b[0m",
      "\u001b[1;32mC:\\Users\\Whtcrow\\Documents\\UW\\PYTHON\\Canopy\\User\\lib\\site-packages\\bs4\\element.pyc\u001b[0m in \u001b[0;36m__getitem__\u001b[1;34m(self, key)\u001b[0m\n\u001b[0;32m    956\u001b[0m         \"\"\"tag[key] returns the value of the 'key' attribute for the tag,\n\u001b[0;32m    957\u001b[0m         and throws an exception if it's not there.\"\"\"\n\u001b[1;32m--> 958\u001b[1;33m         \u001b[1;32mreturn\u001b[0m \u001b[0mself\u001b[0m\u001b[1;33m.\u001b[0m\u001b[0mattrs\u001b[0m\u001b[1;33m[\u001b[0m\u001b[0mkey\u001b[0m\u001b[1;33m]\u001b[0m\u001b[1;33m\u001b[0m\u001b[0m\n\u001b[0m\u001b[0;32m    959\u001b[0m \u001b[1;33m\u001b[0m\u001b[0m\n\u001b[0;32m    960\u001b[0m     \u001b[1;32mdef\u001b[0m \u001b[0m__iter__\u001b[0m\u001b[1;33m(\u001b[0m\u001b[0mself\u001b[0m\u001b[1;33m)\u001b[0m\u001b[1;33m:\u001b[0m\u001b[1;33m\u001b[0m\u001b[0m\n",
      "\u001b[1;31mKeyError\u001b[0m: 0"
     ]
    }
   ],
   "source": [
    "fix = []\n",
    "for i in range(4):\n",
    "    fix.append([row[i] for row in data])"
   ]
  },
  {
   "cell_type": "code",
   "execution_count": 48,
   "metadata": {
    "collapsed": false
   },
   "outputs": [
    {
     "ename": "IOError",
     "evalue": "[Errno 2] No such file or directory: 'data.csv'",
     "output_type": "error",
     "traceback": [
      "\u001b[1;31m---------------------------------------------------------------------------\u001b[0m",
      "\u001b[1;31mIOError\u001b[0m                                   Traceback (most recent call last)",
      "\u001b[1;32m<ipython-input-48-11485368c650>\u001b[0m in \u001b[0;36m<module>\u001b[1;34m()\u001b[0m\n\u001b[0;32m      1\u001b[0m \u001b[0mcols\u001b[0m \u001b[1;33m=\u001b[0m \u001b[1;33m[\u001b[0m\u001b[1;34m'site'\u001b[0m\u001b[1;33m,\u001b[0m\u001b[1;34m'loc'\u001b[0m\u001b[1;33m,\u001b[0m\u001b[1;34m'phone'\u001b[0m\u001b[1;33m,\u001b[0m\u001b[1;34m'desc'\u001b[0m\u001b[1;33m]\u001b[0m \u001b[1;31m# define your columns here, check the spaces!\u001b[0m\u001b[1;33m\u001b[0m\u001b[0m\n\u001b[0;32m      2\u001b[0m \u001b[0mdata\u001b[0m \u001b[1;33m=\u001b[0m \u001b[1;33m[\u001b[0m\u001b[1;33m[\u001b[0m\u001b[1;33m]\u001b[0m \u001b[1;32mfor\u001b[0m \u001b[0mcol\u001b[0m \u001b[1;32min\u001b[0m \u001b[0mcols\u001b[0m\u001b[1;33m]\u001b[0m \u001b[1;31m# this creates a list of **different** lists, not a list of pointers to the same list like you did in [[]]*len(positions)\u001b[0m\u001b[1;33m\u001b[0m\u001b[0m\n\u001b[1;32m----> 3\u001b[1;33m \u001b[1;32mwith\u001b[0m \u001b[0mopen\u001b[0m\u001b[1;33m(\u001b[0m\u001b[1;34m'data.csv'\u001b[0m\u001b[1;33m,\u001b[0m \u001b[1;34m'r'\u001b[0m\u001b[1;33m)\u001b[0m \u001b[1;32mas\u001b[0m \u001b[0mf\u001b[0m\u001b[1;33m:\u001b[0m\u001b[1;33m\u001b[0m\u001b[0m\n\u001b[0m\u001b[0;32m      4\u001b[0m     \u001b[1;32mfor\u001b[0m \u001b[0mrec\u001b[0m \u001b[1;32min\u001b[0m \u001b[0mcsv\u001b[0m\u001b[1;33m.\u001b[0m\u001b[0mDictReader\u001b[0m\u001b[1;33m(\u001b[0m\u001b[0mf\u001b[0m\u001b[1;33m)\u001b[0m\u001b[1;33m:\u001b[0m\u001b[1;33m\u001b[0m\u001b[0m\n\u001b[0;32m      5\u001b[0m         \u001b[1;32mfor\u001b[0m \u001b[0ml\u001b[0m\u001b[1;33m,\u001b[0m \u001b[0mcol\u001b[0m \u001b[1;32min\u001b[0m \u001b[0mzip\u001b[0m\u001b[1;33m(\u001b[0m\u001b[0mdata\u001b[0m\u001b[1;33m,\u001b[0m \u001b[0mcols\u001b[0m\u001b[1;33m)\u001b[0m\u001b[1;33m:\u001b[0m\u001b[1;33m\u001b[0m\u001b[0m\n",
      "\u001b[1;31mIOError\u001b[0m: [Errno 2] No such file or directory: 'data.csv'"
     ]
    }
   ],
   "source": [
    "cols = ['site','loc','phone','desc'] # define your columns here, check the spaces!\n",
    "data = [[] for col in cols] # this creates a list of **different** lists, not a list of pointers to the same list like you did in [[]]*len(positions) \n",
    "with open('data.csv', 'r') as f:\n",
    "    for rec in csv.DictReader(f):\n",
    "        for l, col in zip(data, cols):\n",
    "            l.append(float(rec[col]))\n",
    "            \n",
    "data = re.compile(r'<[^<]*?>')\n",
    "print data"
   ]
  },
  {
   "cell_type": "code",
   "execution_count": 109,
   "metadata": {
    "collapsed": false
   },
   "outputs": [
    {
     "name": "stdout",
     "output_type": "stream",
     "text": [
      "None\n",
      "test\n",
      "None\n",
      "test\n",
      "None\n",
      "test\n",
      "None\n",
      "test\n",
      "None\n",
      "test\n",
      "None\n",
      "test\n"
     ]
    }
   ],
   "source": [
    "from bs4 import BeautifulSoup\n",
    "import urllib2\n",
    "\n",
    "page = urllib2.urlopen(\"http://www.partybusseattle.com/covington_bars.html\")\n",
    "soup = BeautifulSoup(page)\n",
    "food = soup.find_all(\"div\", \"five_veh columns\") #finding the table\n",
    "# Initialy ran with test print to make sure it worked and then went back and started to break the code down.\n",
    "\n",
    "site = []\n",
    "location = []\n",
    "desc = []\n",
    "        \n",
    "for dinner in food:\n",
    "    first_story_paragraph = soup.find(\"p\", \"story\")\n",
    "    print first_story_paragraph\n",
    "    print 'test'\n",
    "        # each [#] above 0 needs to be in a dictionary.\n",
    "        # find way to break up by </strong></span>\n",
    "        # Put each in it's own dictionary of site, location, desc\n",
    "        # then split them into the primary dictionary list"
   ]
  },
  {
   "cell_type": "code",
   "execution_count": 15,
   "metadata": {
    "collapsed": false
   },
   "outputs": [
    {
     "ename": "KeyError",
     "evalue": "0",
     "output_type": "error",
     "traceback": [
      "\u001b[1;31m---------------------------------------------------------------------------\u001b[0m",
      "\u001b[1;31mKeyError\u001b[0m                                  Traceback (most recent call last)",
      "\u001b[1;32m<ipython-input-15-50d638bd5140>\u001b[0m in \u001b[0;36m<module>\u001b[1;34m()\u001b[0m\n\u001b[0;32m      9\u001b[0m \u001b[0mlist_len\u001b[0m \u001b[1;33m=\u001b[0m \u001b[0mlen\u001b[0m\u001b[1;33m(\u001b[0m\u001b[0mtext\u001b[0m\u001b[1;33m)\u001b[0m\u001b[1;33m\u001b[0m\u001b[0m\n\u001b[0;32m     10\u001b[0m \u001b[1;32mfor\u001b[0m \u001b[0mi\u001b[0m \u001b[1;32min\u001b[0m \u001b[0mrange\u001b[0m\u001b[1;33m(\u001b[0m\u001b[1;36m0\u001b[0m\u001b[1;33m,\u001b[0m \u001b[0mlist_len\u001b[0m\u001b[1;33m)\u001b[0m\u001b[1;33m:\u001b[0m\u001b[1;33m\u001b[0m\u001b[0m\n\u001b[1;32m---> 11\u001b[1;33m     \u001b[1;32mprint\u001b[0m\u001b[1;33m(\u001b[0m\u001b[0mdinner\u001b[0m\u001b[1;33m[\u001b[0m\u001b[0mi\u001b[0m\u001b[1;33m]\u001b[0m\u001b[1;33m)\u001b[0m\u001b[1;33m\u001b[0m\u001b[0m\n\u001b[0m",
      "\u001b[1;32mC:\\Users\\Whtcrow\\Documents\\UW\\PYTHON\\Canopy\\User\\lib\\site-packages\\bs4\\element.pyc\u001b[0m in \u001b[0;36m__getitem__\u001b[1;34m(self, key)\u001b[0m\n\u001b[0;32m    956\u001b[0m         \"\"\"tag[key] returns the value of the 'key' attribute for the tag,\n\u001b[0;32m    957\u001b[0m         and throws an exception if it's not there.\"\"\"\n\u001b[1;32m--> 958\u001b[1;33m         \u001b[1;32mreturn\u001b[0m \u001b[0mself\u001b[0m\u001b[1;33m.\u001b[0m\u001b[0mattrs\u001b[0m\u001b[1;33m[\u001b[0m\u001b[0mkey\u001b[0m\u001b[1;33m]\u001b[0m\u001b[1;33m\u001b[0m\u001b[0m\n\u001b[0m\u001b[0;32m    959\u001b[0m \u001b[1;33m\u001b[0m\u001b[0m\n\u001b[0;32m    960\u001b[0m     \u001b[1;32mdef\u001b[0m \u001b[0m__iter__\u001b[0m\u001b[1;33m(\u001b[0m\u001b[0mself\u001b[0m\u001b[1;33m)\u001b[0m\u001b[1;33m:\u001b[0m\u001b[1;33m\u001b[0m\u001b[0m\n",
      "\u001b[1;31mKeyError\u001b[0m: 0"
     ]
    }
   ],
   "source": [
    "page = urllib2.urlopen(\"http://www.partybusseattle.com/covington_bars.html\")\n",
    "soup = BeautifulSoup(page)\n",
    "food = soup.find_all(\"div\", \"five_veh columns\")\n",
    "\n",
    "text = []\n",
    "for item in food:\n",
    "    text += [''.join(s.findAll(text=True))for s in soup.findAll('p')]\n",
    "\n",
    "list_len = len(text)\n",
    "for i in range(0, list_len):\n",
    "    print(dinner[i])"
   ]
  },
  {
   "cell_type": "code",
   "execution_count": 107,
   "metadata": {
    "collapsed": false
   },
   "outputs": [
    {
     "name": "stdout",
     "output_type": "stream",
     "text": [
      "<Element html at 0x686b600>\n",
      "[<Element a at 0x686ba20>, <Element a at 0x686bc90>, <Element a at 0x686bae0>, <Element a at 0x686b930>, <Element a at 0x686b240>, <Element a at 0x686b9c0>, <Element a at 0x686bb70>, <Element a at 0x686bb40>, <Element a at 0x686ba50>, <Element a at 0x686b900>, <Element a at 0x686bc30>, <Element a at 0x686b990>, <Element a at 0x686b960>]\n"
     ]
    }
   ],
   "source": [
    "\n",
    "import urllib2\n",
    "import lxml.html\n",
    "import csv\n",
    "\n",
    "def get_page(url):\n",
    "    html = urllib2.urlopen(url).read()\n",
    "    dom = lxml.html.fromstring(html)\n",
    "    dom.make_links_absolute(url)\n",
    "    return dom\n",
    "\n",
    "dom = get_page(\"http://www.seattletimes.com/pacific-nw-magazine/the-seattle-times-top-10-new-restaurants/\")\n",
    "\n",
    "restaurants = dom.cssselect(\"#article-content p strong a\")\n",
    "print dom\n",
    "print restaurants"
   ]
  },
  {
   "cell_type": "code",
   "execution_count": 68,
   "metadata": {
    "collapsed": false
   },
   "outputs": [
    {
     "name": "stdout",
     "output_type": "stream",
     "text": [
      "[u\"\\nApplebee's\\n\"]\n",
      "[u\"\\nApplebee's\\n\", u\"\\nTrapper's Sushi\\n\"]\n",
      "[u\"\\nApplebee's\\n\", u\"\\nTrapper's Sushi\\n\", u'\\nRed Robin\\n']\n",
      "[u\"\\nApplebee's\\n\", u\"\\nTrapper's Sushi\\n\", u'\\nRed Robin\\n', u\"\\nNikki's Restaurant & Lounge\\n\"]\n",
      "[u\"\\nApplebee's\\n\", u\"\\nTrapper's Sushi\\n\", u'\\nRed Robin\\n', u\"\\nNikki's Restaurant & Lounge\\n\", u'\\nMizu Japanese Steak House\\n']\n",
      "[u\"\\nApplebee's\\n\", u\"\\nTrapper's Sushi\\n\", u'\\nRed Robin\\n', u\"\\nNikki's Restaurant & Lounge\\n\", u'\\nMizu Japanese Steak House\\n', u'\\nPuerto Vallarta\\n']\n"
     ]
    }
   ],
   "source": [
    "site = []\n",
    "for row in soup.find_all(\"h5\"):\n",
    "    site.append(row.find(text=True))\n",
    "    print site"
   ]
  },
  {
   "cell_type": "code",
   "execution_count": 99,
   "metadata": {
    "collapsed": false
   },
   "outputs": [
    {
     "name": "stdout",
     "output_type": "stream",
     "text": [
      "[\"\\nApplebee's\\n\", \"\\nTrapper's Sushi\\n\", '\\nRed Robin\\n', \"\\nNikki's Restaurant & Lounge\\n\", '\\nMizu Japanese Steak House\\n', '\\nPuerto Vallarta\\n']\n"
     ]
    }
   ],
   "source": [
    "from lxml import html\n",
    "import requests\n",
    "\n",
    "page = requests.get(\"http://www.partybusseattle.com/covington_bars.html\")\n",
    "tree = html.fromstring(page.content)\n",
    "\n",
    "site = tree.xpath('//h5/text()')\n",
    "print site"
   ]
  },
  {
   "cell_type": "code",
   "execution_count": 97,
   "metadata": {
    "collapsed": false
   },
   "outputs": [
    {
     "ename": "IndentationError",
     "evalue": "unexpected unindent (<ipython-input-97-16ac4e9e4b29>, line 13)",
     "output_type": "error",
     "traceback": [
      "\u001b[1;36m  File \u001b[1;32m\"<ipython-input-97-16ac4e9e4b29>\"\u001b[1;36m, line \u001b[1;32m13\u001b[0m\n\u001b[1;33m    desc = str(p[3].get_text())\u001b[0m\n\u001b[1;37m                               ^\u001b[0m\n\u001b[1;31mIndentationError\u001b[0m\u001b[1;31m:\u001b[0m unexpected unindent\n"
     ]
    }
   ],
   "source": [
    "site = []\n",
    "location = []\n",
    "phone = []\n",
    "desc= []\n",
    "\n",
    "mapString = \"\"\n",
    "for dinner in food:\n",
    "    tds = tr.find_all(\"p\")\n",
    "    try: #we are using \"try\" because the table is not well formatted. This allows the program to continue after encountering an error.\n",
    "        site = str(p[0].get_text()) # This structure isolate the item by its column in the table and converts it into a string.\n",
    "        location = str(p[1].get_text())\n",
    "        phone = str(p[2].get_text())\n",
    "        desc = str(p[3].get_text())\n"
   ]
  },
  {
   "cell_type": "code",
   "execution_count": 72,
   "metadata": {
    "collapsed": false
   },
   "outputs": [
    {
     "name": "stdout",
     "output_type": "stream",
     "text": [
      "bad tr string\n",
      "bad tr string\n",
      "bad tr string\n",
      "bad tr string\n",
      "bad tr string\n",
      "bad tr string\n"
     ]
    }
   ],
   "source": [
    "from bs4 import BeautifulSoup\n",
    "import csv\n",
    "\n",
    "page = urllib2.urlopen(\"http://www.partybusseattle.com/covington_bars.html\")\n",
    "soup = BeautifulSoup (page)\n",
    "\n",
    "final_link = soup.p.a\n",
    "final_link.decompose()\n",
    "\n",
    "f= csv.writer(open(\"resteraunts.csv\", \"w\"))   # Open the output file for writing before the loop\n",
    "f.writerow([\"site\", \"location\", \"number\", \"review\"]) # Write column headers as the first line\n",
    "\n",
    "items = soup.find_all(\"div\", \"five_veh columns\")\n",
    "\n",
    "for row in items:\n",
    "\n",
    "    try: #we are using \"try\" because the table is not well formatted. This allows the program to continue after encountering an error.\n",
    "        site = str(h5[0].get_text()) # This structure isolate the item by its column in the table and converts it into a string.\n",
    "        location = str(p[1].get_text())\n",
    "        number = str(p[2].get_text())\n",
    "        review = str(p[3].get_text())\n",
    "\n",
    "    except:\n",
    "        print \"bad tr string\"\n",
    "        continue #This tells the computer to move on to the next item after it encounters an error\n",
    "\n",
    "    f.writerow([\"site\", \"location\", \"number\", \"review\"])"
   ]
  },
  {
   "cell_type": "code",
   "execution_count": 100,
   "metadata": {
    "collapsed": false
   },
   "outputs": [
    {
     "name": "stdout",
     "output_type": "stream",
     "text": [
      "[' ', '\\n\\n\\n\\n\\n\\n\\n\\n\\n\\n\\n\\n', '\\n17040 SE 272nd St, \\nCovington, WA 98042\\n', '\\n(253) 856-1900\\n', \"\\nApplebee's might be a chain restaurant but it's one that is so ideally suited to Party Bus Seattle groups traveling in Covington. They've got an awesome bar area here where you and your party bus group will enjoy chilling and watching sports on TV, while you sip delicious specialty cocktails and nosh on incredible appetizers. As far as the entrees go, we are madly in love with the garlic sirloin with redskin potatoes and stuffed mushroom caps. Absolutely delicious. They've got really good wings too if you're in the mood for bar fare!\\n\", '\\n16908 SE 269th Pl, \\nCovington, WA 98042\\n', '\\n(253) 277-0926\\n', \"\\nTrapper's Sushi is a delightful Japanese restaurant and sushi bar that will be such a great destination for your Party Bus Seattle groups in Covington. They've got such outstanding maki selections here, including our favorites, the spider roll and the Philly roll. We always judge a sushi restaurant by the quality of their salmon roe nigiri, and we're happy to say that theirs is off-the-charts delish! The sake selection is impressive and very tasty, and what better way to wash down a stellar meal of sushi and sashimi than that? Love it!\\n\", '\\n27193 185th Avenue SE, \\nCovington, WA 98042\\n', '\\nPhone number (253) 630-5441\\n', \"\\nRed Robin is another chain that we really like. Enough Party Bus Seattle groups in the Covington area have chosen this one as their dining destination that we had to perk up and take notice! They've got really tasty burgers that are juicy and perfectly cooked to order. The array of specialty burgers is always impressive and they're always offering new seasonal specialties to keep things fresh. If you're not a burger lover, they have fantastic entrees and salads too, and even mouth watering milkshakes! We recommend the mint brownie. Mmm!\\n\", '\\n27120 174th Pl SE, \\nCovington, WA 98042\\n', '\\n(253) 236-5623\\n', \"\\nNikki's Restaurant & Lounge is a cozy diner and bar that is well known to our Party Bus Seattle partygoers in the Covington vicinity. They offer a full bar and even televisions so that you can keep an eye on the game while you nosh and chat with your friends. It's not fancy here, just simple and good, with nice happy hour prices that will really put a smile on your face. If you've got a sweet tooth, don't shy away from their homemade cinnamon rolls. If you're there for breakfast, they've got scrambles that will really please your tastebuds.\\n\", '\\n27149 185th Ave SE, \\nCovington, WA 98042\\n', '\\n(253) 638-1317\\n', \"\\nMizu Japanese Steak House is a sushi bar and seafood/steakhouse style restaurant that will entice your tastebuds to no end. If you love teppanyaki style cooking, you'll really enjoy the entertainment that comes along with that, and the quality of the food is undeniable. Their fried rice is some of the best that we have ever tasted. The space is large and they have lots of windows to let the light in. There is a full bar here, not just sake, so you can enjoy whatever drink your little heart is in the mood for. Free wi-fi and televisions as well! Very nice.\\n\", '\\n16717 SE 272nd St, \\nCovington, WA 98042\\n', '\\n(253) 631-1399\\n', \"\\nPuerto Vallarta is a sensational Mexican restaurant that even offers an impressive buffet. The prices here are in the affordable range and the quality is super high. The chimichanga special is truly mouth watering and we cannot get enough of their famous tortilla soup. Their carne asada is another amazing choice that we'd recommend any day of the week! There is a full bar as well as televisions for watching sports, and though they close up at 11:30 most nights, they are open until 1:30 am on Fridays and Saturdays. A great weekend destination!\\n\", 'Covington Zip Codes: 98042', u'\\n\\t\\t\\t\\t\\tCopyright \\xa9 2015 | ', ' | All Rights Reserved.\\n\\t\\t\\t\\t', '\\n\\n\\t\\t\\t\\t']\n"
     ]
    }
   ],
   "source": [
    "location = tree.xpath('//p/text()') #Well that didn't work.\n",
    "print location"
   ]
  },
  {
   "cell_type": "code",
   "execution_count": 20,
   "metadata": {
    "collapsed": false
   },
   "outputs": [
    {
     "ename": "NameError",
     "evalue": "name 'tree' is not defined",
     "output_type": "error",
     "traceback": [
      "\u001b[1;31m---------------------------------------------------------------------------\u001b[0m",
      "\u001b[1;31mNameError\u001b[0m                                 Traceback (most recent call last)",
      "\u001b[1;32m<ipython-input-20-9b1ed0f7857b>\u001b[0m in \u001b[0;36m<module>\u001b[1;34m()\u001b[0m\n\u001b[1;32m----> 1\u001b[1;33m \u001b[0msite\u001b[0m \u001b[1;33m=\u001b[0m \u001b[0mtree\u001b[0m\u001b[1;33m.\u001b[0m\u001b[0mxpath\u001b[0m\u001b[1;33m(\u001b[0m\u001b[1;34m'//span[@style=\"font-size:12pt;\"]/text()'\u001b[0m\u001b[1;33m)\u001b[0m\u001b[1;33m\u001b[0m\u001b[0m\n\u001b[0m\u001b[0;32m      2\u001b[0m \u001b[1;32mprint\u001b[0m \u001b[0msite\u001b[0m\u001b[1;33m\u001b[0m\u001b[0m\n\u001b[0;32m      3\u001b[0m \u001b[1;33m\u001b[0m\u001b[0m\n\u001b[0;32m      4\u001b[0m \u001b[1;31m#A list of the lunch texts:\u001b[0m\u001b[1;33m\u001b[0m\u001b[1;33m\u001b[0m\u001b[0m\n\u001b[0;32m      5\u001b[0m \u001b[0mlocation\u001b[0m \u001b[1;33m=\u001b[0m \u001b[0mtree\u001b[0m\u001b[1;33m.\u001b[0m\u001b[0mxpath\u001b[0m\u001b[1;33m(\u001b[0m\u001b[1;34m'//span[@class=\"text_luchmenu\"]/text()'\u001b[0m\u001b[1;33m)\u001b[0m\u001b[1;33m\u001b[0m\u001b[0m\n",
      "\u001b[1;31mNameError\u001b[0m: name 'tree' is not defined"
     ]
    }
   ],
   "source": [
    "site = tree.xpath('//span[@style=\"font-size:12pt;\"]/text()')\n",
    "print site\n",
    "\n",
    "#A list of the lunch texts:\n",
    "location = tree.xpath('//span[@class=\"text_luchmenu\"]/text()')\n",
    "print location\n",
    "\n",
    "#A list of lunch prices:\n",
    "review= tree.xpath('//span[@class=\"price_lunchmenu\"]/text()')\n",
    "print review"
   ]
  },
  {
   "cell_type": "code",
   "execution_count": null,
   "metadata": {
    "collapsed": true
   },
   "outputs": [],
   "source": [
    "food_list = soup.findAll('table', {'class': 'wikitable'})\n",
    "for row in food_list:\n",
    "    rows = movie.findAll('p')"
   ]
  },
  {
   "cell_type": "code",
   "execution_count": null,
   "metadata": {
    "collapsed": true
   },
   "outputs": [],
   "source": [
    "http://stackoverflow.com/questions/29125951/scraping-an-element-using-lxml-and-xpath\n",
    "    \n",
    "    view-source:https://www.aep.com/environment/conservation/campgrounds.aspx"
   ]
  }
 ],
 "metadata": {
  "kernelspec": {
   "display_name": "Python 2",
   "language": "python",
   "name": "python2"
  },
  "language_info": {
   "codemirror_mode": {
    "name": "ipython",
    "version": 2
   },
   "file_extension": ".py",
   "mimetype": "text/x-python",
   "name": "python",
   "nbconvert_exporter": "python",
   "pygments_lexer": "ipython2",
   "version": "2.7.10"
  }
 },
 "nbformat": 4,
 "nbformat_minor": 0
}
