{
 "cells": [
  {
   "cell_type": "markdown",
   "metadata": {},
   "source": [
    "For an Arcmap Python class:\n",
    "\n",
    "I need a table like this,\n",
    ">Site = [resteraunt1, resteraunt2, resteraunt3]  \n",
    ">location = [address1, address2, address3]  \n",
    ">phone = [number1, number2, number3]  \n",
    ">desc = [review1, review2, review3]  \n",
    "\n",
    "So far I have been able to break the website down so that each row returns a different set, from the resteraunt, address, phone and description but I can not seem to work out how to make each one go into it's own table through looping.  \n",
    "\n",
    "Ultimately, I need to make a CSV file with the addresses convereted to Lat Long that ArcMap can read... but for now I am just trying to get the table (or dictionary?) to even build.  \n",
    "\n",
    "URL of website being scraped: http://www.partybusseattle.com/covington_bars.html"
   ]
  },
  {
   "cell_type": "code",
   "execution_count": 13,
   "metadata": {
    "collapsed": false
   },
   "outputs": [
    {
     "name": "stdout",
     "output_type": "stream",
     "text": [
      "[<h5>\\nApplebee's\\n</h5>]\n",
      "MONTYWASHERE\n",
      "[<h5>\\nApplebee's\\n</h5>]\n",
      "MONTYWASHERE\n",
      "[<h5>\\nApplebee's\\n</h5>]\n",
      "MONTYWASHERE\n",
      "[<h5>\\nApplebee's\\n</h5>]\n",
      "MONTYWASHERE\n",
      "[<h5>\\nApplebee's\\n</h5>]\n",
      "MONTYWASHERE\n",
      "[<h5>\\nApplebee's\\n</h5>, <p>\\n16908 SE 269th Pl, \\nCovington, WA 98042\\n</p>]\n",
      "MONTYWASHERE\n",
      "[<h5>\\nApplebee's\\n</h5>, <p>\\n16908 SE 269th Pl, \\nCovington, WA 98042\\n</p>]\n",
      "MONTYWASHERE\n",
      "[<h5>\\nApplebee's\\n</h5>, <p>\\n16908 SE 269th Pl, \\nCovington, WA 98042\\n</p>]\n",
      "MONTYWASHERE\n",
      "[<h5>\\nApplebee's\\n</h5>, <p>\\n16908 SE 269th Pl, \\nCovington, WA 98042\\n</p>]\n",
      "MONTYWASHERE\n",
      "[<h5>\\nApplebee's\\n</h5>, <p>\\n16908 SE 269th Pl, \\nCovington, WA 98042\\n</p>]\n",
      "MONTYWASHERE\n",
      "[<h5>\\nApplebee's\\n</h5>, <p>\\n16908 SE 269th Pl, \\nCovington, WA 98042\\n</p>, <p>\\nPhone number (253) 630-5441\\n</p>]\n",
      "MONTYWASHERE\n",
      "[<h5>\\nApplebee's\\n</h5>, <p>\\n16908 SE 269th Pl, \\nCovington, WA 98042\\n</p>, <p>\\nPhone number (253) 630-5441\\n</p>]\n",
      "MONTYWASHERE\n",
      "[<h5>\\nApplebee's\\n</h5>, <p>\\n16908 SE 269th Pl, \\nCovington, WA 98042\\n</p>, <p>\\nPhone number (253) 630-5441\\n</p>]\n",
      "MONTYWASHERE\n",
      "[<h5>\\nApplebee's\\n</h5>, <p>\\n16908 SE 269th Pl, \\nCovington, WA 98042\\n</p>, <p>\\nPhone number (253) 630-5441\\n</p>]\n",
      "MONTYWASHERE\n",
      "[<h5>\\nApplebee's\\n</h5>, <p>\\n16908 SE 269th Pl, \\nCovington, WA 98042\\n</p>, <p>\\nPhone number (253) 630-5441\\n</p>]\n",
      "MONTYWASHERE\n",
      "[<h5>\\nApplebee's\\n</h5>, <p>\\n16908 SE 269th Pl, \\nCovington, WA 98042\\n</p>, <p>\\nPhone number (253) 630-5441\\n</p>, <p>\\nNikki's Restaurant &amp; Lounge is a cozy diner and bar that is well known to our Party Bus Seattle partygoers in the Covington vicinity. They offer a full bar and even televisions so that you can keep an eye on the game while you nosh and chat with your friends. It's not fancy here, just simple and good, with nice happy hour prices that will really put a smile on your face. If you've got a sweet tooth, don't shy away from their homemade cinnamon rolls. If you're there for breakfast, they've got scrambles that will really please your tastebuds.\\n</p>]\n",
      "MONTYWASHERE\n",
      "[<h5>\\nApplebee's\\n</h5>, <p>\\n16908 SE 269th Pl, \\nCovington, WA 98042\\n</p>, <p>\\nPhone number (253) 630-5441\\n</p>, <p>\\nNikki's Restaurant &amp; Lounge is a cozy diner and bar that is well known to our Party Bus Seattle partygoers in the Covington vicinity. They offer a full bar and even televisions so that you can keep an eye on the game while you nosh and chat with your friends. It's not fancy here, just simple and good, with nice happy hour prices that will really put a smile on your face. If you've got a sweet tooth, don't shy away from their homemade cinnamon rolls. If you're there for breakfast, they've got scrambles that will really please your tastebuds.\\n</p>]\n",
      "MONTYWASHERE\n",
      "[<h5>\\nApplebee's\\n</h5>, <p>\\n16908 SE 269th Pl, \\nCovington, WA 98042\\n</p>, <p>\\nPhone number (253) 630-5441\\n</p>, <p>\\nNikki's Restaurant &amp; Lounge is a cozy diner and bar that is well known to our Party Bus Seattle partygoers in the Covington vicinity. They offer a full bar and even televisions so that you can keep an eye on the game while you nosh and chat with your friends. It's not fancy here, just simple and good, with nice happy hour prices that will really put a smile on your face. If you've got a sweet tooth, don't shy away from their homemade cinnamon rolls. If you're there for breakfast, they've got scrambles that will really please your tastebuds.\\n</p>]\n",
      "MONTYWASHERE\n",
      "[<h5>\\nApplebee's\\n</h5>, <p>\\n16908 SE 269th Pl, \\nCovington, WA 98042\\n</p>, <p>\\nPhone number (253) 630-5441\\n</p>, <p>\\nNikki's Restaurant &amp; Lounge is a cozy diner and bar that is well known to our Party Bus Seattle partygoers in the Covington vicinity. They offer a full bar and even televisions so that you can keep an eye on the game while you nosh and chat with your friends. It's not fancy here, just simple and good, with nice happy hour prices that will really put a smile on your face. If you've got a sweet tooth, don't shy away from their homemade cinnamon rolls. If you're there for breakfast, they've got scrambles that will really please your tastebuds.\\n</p>]\n",
      "MONTYWASHERE\n",
      "[<h5>\\nApplebee's\\n</h5>, <p>\\n16908 SE 269th Pl, \\nCovington, WA 98042\\n</p>, <p>\\nPhone number (253) 630-5441\\n</p>, <p>\\nNikki's Restaurant &amp; Lounge is a cozy diner and bar that is well known to our Party Bus Seattle partygoers in the Covington vicinity. They offer a full bar and even televisions so that you can keep an eye on the game while you nosh and chat with your friends. It's not fancy here, just simple and good, with nice happy hour prices that will really put a smile on your face. If you've got a sweet tooth, don't shy away from their homemade cinnamon rolls. If you're there for breakfast, they've got scrambles that will really please your tastebuds.\\n</p>]\n",
      "MONTYWASHERE\n",
      "[<h5>\\nApplebee's\\n</h5>, <p>\\n16908 SE 269th Pl, \\nCovington, WA 98042\\n</p>, <p>\\nPhone number (253) 630-5441\\n</p>, <p>\\nNikki's Restaurant &amp; Lounge is a cozy diner and bar that is well known to our Party Bus Seattle partygoers in the Covington vicinity. They offer a full bar and even televisions so that you can keep an eye on the game while you nosh and chat with your friends. It's not fancy here, just simple and good, with nice happy hour prices that will really put a smile on your face. If you've got a sweet tooth, don't shy away from their homemade cinnamon rolls. If you're there for breakfast, they've got scrambles that will really please your tastebuds.\\n</p>, <h5>\\nPuerto Vallarta\\n</h5>]\n",
      "MONTYWASHERE\n",
      "[<h5>\\nApplebee's\\n</h5>, <p>\\n16908 SE 269th Pl, \\nCovington, WA 98042\\n</p>, <p>\\nPhone number (253) 630-5441\\n</p>, <p>\\nNikki's Restaurant &amp; Lounge is a cozy diner and bar that is well known to our Party Bus Seattle partygoers in the Covington vicinity. They offer a full bar and even televisions so that you can keep an eye on the game while you nosh and chat with your friends. It's not fancy here, just simple and good, with nice happy hour prices that will really put a smile on your face. If you've got a sweet tooth, don't shy away from their homemade cinnamon rolls. If you're there for breakfast, they've got scrambles that will really please your tastebuds.\\n</p>, <h5>\\nPuerto Vallarta\\n</h5>]\n",
      "MONTYWASHERE\n",
      "[<h5>\\nApplebee's\\n</h5>, <p>\\n16908 SE 269th Pl, \\nCovington, WA 98042\\n</p>, <p>\\nPhone number (253) 630-5441\\n</p>, <p>\\nNikki's Restaurant &amp; Lounge is a cozy diner and bar that is well known to our Party Bus Seattle partygoers in the Covington vicinity. They offer a full bar and even televisions so that you can keep an eye on the game while you nosh and chat with your friends. It's not fancy here, just simple and good, with nice happy hour prices that will really put a smile on your face. If you've got a sweet tooth, don't shy away from their homemade cinnamon rolls. If you're there for breakfast, they've got scrambles that will really please your tastebuds.\\n</p>, <h5>\\nPuerto Vallarta\\n</h5>]\n",
      "MONTYWASHERE\n",
      "[<h5>\\nApplebee's\\n</h5>, <p>\\n16908 SE 269th Pl, \\nCovington, WA 98042\\n</p>, <p>\\nPhone number (253) 630-5441\\n</p>, <p>\\nNikki's Restaurant &amp; Lounge is a cozy diner and bar that is well known to our Party Bus Seattle partygoers in the Covington vicinity. They offer a full bar and even televisions so that you can keep an eye on the game while you nosh and chat with your friends. It's not fancy here, just simple and good, with nice happy hour prices that will really put a smile on your face. If you've got a sweet tooth, don't shy away from their homemade cinnamon rolls. If you're there for breakfast, they've got scrambles that will really please your tastebuds.\\n</p>, <h5>\\nPuerto Vallarta\\n</h5>]\n",
      "MONTYWASHERE\n"
     ]
    }
   ],
   "source": [
    "from bs4 import BeautifulSoup\n",
    "import urllib2\n",
    "import lxml\n",
    "import csv\n",
    "\n",
    "# Trying\n",
    "\n",
    "page = urllib2.urlopen(\"http://www.partybusseattle.com/covington_bars.html\")\n",
    "soup = BeautifulSoup(page)\n",
    "food = soup.find_all(\"div\", \"five_veh columns\") #finding the table\n",
    "# Initialy ran with test print to make sure it worked and then went back and started to break the code down.\n",
    "    \n",
    "site = []\n",
    "location = []\n",
    "phone = []\n",
    "desc = []\n",
    "data = []\n",
    "i = 0\n",
    "\n",
    "for dinner in food:\n",
    "    for row in dinner:\n",
    "        i = i + 1\n",
    "        if i == 1:\n",
    "            site.append(row)\n",
    "        if i == 2:\n",
    "            location.append(row)\n",
    "        if i == 3:\n",
    "            phone.append(row)\n",
    "        if i == 4:\n",
    "            desc.append(row)\n",
    "        if i == 5:\n",
    "            i = 0\n",
    "        \n",
    "        \n",
    "        print site \n",
    "        print \"MONTYWASHERE\""
   ]
  },
  {
   "cell_type": "code",
   "execution_count": null,
   "metadata": {
    "collapsed": true
   },
   "outputs": [],
   "source": []
  }
 ],
 "metadata": {
  "kernelspec": {
   "display_name": "Python 2",
   "language": "python",
   "name": "python2"
  },
  "language_info": {
   "codemirror_mode": {
    "name": "ipython",
    "version": 2
   },
   "file_extension": ".py",
   "mimetype": "text/x-python",
   "name": "python",
   "nbconvert_exporter": "python",
   "pygments_lexer": "ipython2",
   "version": "2.7.10"
  }
 },
 "nbformat": 4,
 "nbformat_minor": 0
}
