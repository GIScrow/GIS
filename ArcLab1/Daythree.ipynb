{
 "cells": [
  {
   "cell_type": "code",
   "execution_count": 9,
   "metadata": {
    "collapsed": true
   },
   "outputs": [],
   "source": [
    "import sys\n",
    "sys.path.append('C:\\\\Program Files (x86)\\\\ArcGIS\\\\Desktop10.3\\\\bin')\n",
    "sys.path.append('C:\\\\Program Files (x86)\\\\ArcGIS\\\\Desktop10.3\\\\arcpy')\n",
    "sys.path.append('C:\\\\Program Files (x86)\\\\ArcGIS\\\\Desktop10.3\\\\ArcToolbox\\\\Scripts')"
   ]
  },
  {
   "cell_type": "markdown",
   "metadata": {},
   "source": [
    "### Step 1: Splitting Shapefile into Counties"
   ]
  },
  {
   "cell_type": "code",
   "execution_count": 9,
   "metadata": {
    "collapsed": false
   },
   "outputs": [
    {
     "data": {
      "text/plain": [
       "<Result 'F:\\\\UW\\\\GEOG458 Python\\\\Arclab\\\\Workspace\\\\COUNTY_001.shp'>"
      ]
     },
     "execution_count": 9,
     "metadata": {},
     "output_type": "execute_result"
    }
   ],
   "source": [
    "# script from chapter 7, pg 130, rewriten so as to work for this assignment.\n",
    "\n",
    "import arcpy\n",
    "C_source = r\"F:\\UW\\GEOG458 Python\\Arclab\\Workspace\\saep_bg10.shp\"                  \n",
    "C_output = r\"F:\\UW\\GEOG458 Python\\Arclab\\Workspace\\COUNTY_001.shp\"\n",
    "county = \"COUNTYFP10\"\n",
    "delimfield = arcpy.AddFieldDelimiters(C_source, county)\n",
    "arcpy.Select_analysis(C_source, C_output, delimfield + \" = '001'\")"
   ]
  },
  {
   "cell_type": "markdown",
   "metadata": {},
   "source": [
    "###### 1.31.2016:\n",
    "    \n",
    "I went through a variety of methodoligies when trying to automate the above script. First I thought I could copy the scritp and do a line for each one so I ran a script to say what the county codes were After realizing there would be a lot of county codes, I then tried to make a loop to automate inserting a new county code into the select analysis as it came across it. Unfortunetly the script refuse to read the code."
   ]
  },
  {
   "cell_type": "code",
   "execution_count": 3,
   "metadata": {
    "collapsed": false
   },
   "outputs": [
    {
     "name": "stdout",
     "output_type": "stream",
     "text": [
      "Executing: Split saep_bg10.shp washington.shp COUNTYFP10 \"F:\\UW\\GEOG458 Python\\Arclab\\Workspace\\scriptsplit\" #\n",
      "Start Time: Tue Feb 02 09:30:52 2016\n",
      "Reading Features...\n",
      "Cracking Features...\n",
      "Assembling Features...\n",
      "Succeeded at Tue Feb 02 09:33:00 2016 (Elapsed Time: 2 minutes 8 seconds)\n"
     ]
    }
   ],
   "source": [
    "# After fighting with trying to automate the above script for aproximately five hours over the weekend and two on monday, \n",
    "# I decided to take a look at what tool ArcMap had that could accomplish what I wanted to do.\n",
    "# By using a mixture of ArcMap and ArcMap help, I decided to try Split Analysis.\n",
    "\n",
    "import arcpy\n",
    "\n",
    "arcpy.env.workspace=r\"F:\\UW\\GEOG458 Python\\Arclab\\Workspace\"    # Because workspace.                  \n",
    "C_output = r\"F:\\UW\\GEOG458 Python\\Arclab\\Workspace\\scriptsplit\" # C_source was not needed, workspace already set the source.\n",
    "shapey = \"saep_bg10.shp\"\n",
    "county = \"COUNTYFP10\"\n",
    "\n",
    "arcpy.Split_analysis (shapey, shapey, county, C_output) #I used ArcMap and Help file to know what fields needed to be filled.\n",
    "                            # I origionaly used the shapefile twice so as to get split analysis to use information in the same file.\n",
    "print arcpy.GetMessages()   # From chapter 5.10, page 113 of the book. \n",
    "                            # I had hoped it would show the process as it was working, \n",
    "                            # but it did not give any of the messages until after all of the scripts were done running."
   ]
  },
  {
   "cell_type": "markdown",
   "metadata": {},
   "source": [
    "> There is a divergence in date because I re-ran the above script multiple times to get 'clean' files to work with while \n",
    "trying to delete and organize the output county shapefiles in step 2. I initially tried to make a copy of the saep_bg10.shp \n",
    "file in hopes that it would remove the result of the script making duplicate files, but that did not work. So instead I decided \n",
    "to have a separate script that would delete the additional files."
   ]
  },
  {
   "cell_type": "markdown",
   "metadata": {},
   "source": [
    "###### 2.1.2016:  \n",
    "\n",
    "I proceeded to try to find a way to write a script that would list all the files in the folder where \n",
    "the shape files had been split off to, and have a python list with those shapefile names.\n",
    "\n",
    "Mid processes, I spoke with Hardy Wooldridge who mentioned that what was wanted, was a file that had all of the county names, not just the county codes. He also mentioned about the process of writing out what you want to accomplish with the code, and what tools could be used in ArcMap so as to achieve what was wanted. While I had already used the Split analysis, this did mean that there were tools to merge the information regarding the population in the shape files to total population. \n",
    "\n",
    "I decided to re-run the split analysis, after merging the County Names so as to not have to write more code then was needed."
   ]
  },
  {
   "cell_type": "code",
   "execution_count": 10,
   "metadata": {
    "collapsed": false
   },
   "outputs": [
    {
     "data": {
      "text/plain": [
       "<Result 'countyjoin.shp'>"
      ]
     },
     "execution_count": 10,
     "metadata": {},
     "output_type": "execute_result"
    }
   ],
   "source": [
    "import arcpy\n",
    "\n",
    "# Setting Workspace\n",
    "arcpy.env.workspace=r\"F:\\UW\\GEOG458 Python\\Arclab\\Workspace\"    # Because workspace.                  \n",
    "C_output = r\"F:\\UW\\GEOG458 Python\\Arclab\\Workspace\" # C_source was not needed, workspace already set the source.\n",
    "\n",
    "tablefile = \"WashingtonFIPS.dbf\"\n",
    "tablefield = \"FIPSCounty\"\n",
    "shapefile = \"saep_bg10.shp\"\n",
    "shapefield = \"COUNTYFP10\"\n",
    "outfeature = \"countyjoin.shp\"\n",
    "\n",
    "arcpy.MakeFeatureLayer_management (shapefile, outfeature)  # Added to solve the AddJoin 'ERROR 000840' regarding shapefile type.\n",
    "arcpy.AddJoin_management(outfeature, shapefield, tablefile, tablefield) # I reversed the order in which I joined the fields \n",
    "                                                                        # after multipule errors with joining the database \n",
    "                                                                        # with the shapefile."
   ]
  },
  {
   "cell_type": "markdown",
   "metadata": {},
   "source": [
    "While using a mix of ArcMap and the help files, I tried to get the Addjoin_management script to work for three hours without success. \n",
    "\n",
    "###### 2.2.2016:  \n",
    "\n",
    "Following day I met with  Wooldridge who explained that the order in which I was joining layers were backwards, and that the file needed to be a certain type, which was why the script was not accepting the data I was trying to use. I then reversed the order, and used a script to turn the shapefile being used into a layer.\n",
    "\n",
    "I then focused on organizing files by population typ"
   ]
  },
  {
   "cell_type": "code",
   "execution_count": 11,
   "metadata": {
    "collapsed": false
   },
   "outputs": [
    {
     "name": "stdout",
     "output_type": "stream",
     "text": [
      "saep_bg10.STATEFP10 2\n",
      "saep_bg10.COUNTYFP10 3\n",
      "saep_bg10.TRACTCE10 6\n",
      "saep_bg10.BLKGRPCE10 1\n",
      "saep_bg10.GEOID10 12\n",
      "saep_bg10.NAMELSAD10 13\n",
      "saep_bg10.MTFCC10 5\n",
      "saep_bg10.FUNCSTAT10 1\n",
      "saep_bg10.Version 20\n",
      "WashingtonFIPS.CountyName 254\n",
      "WashingtonFIPS.FIPSCounty 254\n"
     ]
    }
   ],
   "source": [
    "# listing the results from the created file.\n",
    "\n",
    "fieldlist = arcpy.ListFields(outfeature, \"\", \"String\")\n",
    "for field in fieldlist:\n",
    "    print field.name + \" \" + str(field.length)\n",
    "    \n",
    "# Script added after having difficulty figuring out the name of the \n",
    "# \"CountyName\" field that would be used for the split analysis."
   ]
  },
  {
   "cell_type": "markdown",
   "metadata": {},
   "source": [
    "After testing the split counties, I discovered that the split analysis tool was leaving out counties in the split. I therefore needed to try running a seperate script."
   ]
  },
  {
   "cell_type": "code",
   "execution_count": 19,
   "metadata": {
    "collapsed": false
   },
   "outputs": [
    {
     "name": "stdout",
     "output_type": "stream",
     "text": [
      "set([u'San Juan', u'Pend Oreille', u'Snohomish', u'Grant', u'Pierce', u'Douglas', u'Kittitas', u'Jefferson', u'Whatcom', u'Wahkiakum', u'Cowlitz', u'Columbia', u'Thurston', u'Yakima', u'Island', u'Okanogan', u'Kitsap', u'Clallam', u'King', u'Lincoln', u'Spokane', u'Adams', u'Grays Harbor', u'Klickitat', u'Benton', u'Franklin', u'Ferry', u'Mason', u'Whitman', u'Skagit', u'Skamania', u'Clark', u'Stevens', u'Lewis', u'Walla Walla', u'Pacific', u'Garfield', u'Chelan', u'Asotin'])\n"
     ]
    }
   ],
   "source": [
    "# Getting values of the county shapefile.\n",
    "arcpy.env.workspace=r\"F:\\UW\\GEOG458 Python\\Arclab\\Workspace\"    # Because workspace.                  \n",
    "C_output = r\"F:\\UW\\GEOG458 Python\\Arclab\\Workspace\\countysplit\" \n",
    "county = \"countyjoin.shp\"\n",
    "name = \"WashingtonFIPS.CountyName\"\n",
    "\n",
    "values = [row[0] for row in arcpy.da.SearchCursor(county, (name))] #searches for values in 'name' from the 'county' table.\n",
    "countyvalues = set(values)  # creates a new list 'countyvalue' with the values that the cursor found in 'name'\n",
    "print(countyvalues)"
   ]
  },
  {
   "cell_type": "code",
   "execution_count": 38,
   "metadata": {
    "collapsed": false
   },
   "outputs": [
    {
     "ename": "SyntaxError",
     "evalue": "invalid syntax (<ipython-input-38-c14d2df2ae18>, line 9)",
     "output_type": "error",
     "traceback": [
      "\u001b[1;36m  File \u001b[1;32m\"<ipython-input-38-c14d2df2ae18>\"\u001b[1;36m, line \u001b[1;32m9\u001b[0m\n\u001b[1;33m    arcpy.SelectLayerByAttribute_management (county, \"\", '('cname') = ('value')')\u001b[0m\n\u001b[1;37m                                                                ^\u001b[0m\n\u001b[1;31mSyntaxError\u001b[0m\u001b[1;31m:\u001b[0m invalid syntax\n"
     ]
    }
   ],
   "source": [
    "# Re-Run split analysis with new script, this time using a loop that utilizes the value list just created.\n",
    "\n",
    "arcpy.env.workspace=r\"F:\\UW\\GEOG458 Python\\Arclab\\Workspace\"                   \n",
    "C_output = r\"F:\\UW\\GEOG458 Python\\Arclab\\Workspace\\thirdsplit\" \n",
    "county = \"countyjoin.shp\"\n",
    "cname = \"WashingtonFIPS.CountyName\"\n",
    "\n",
    "for value in countyvalues:\n",
    "        arcpy.SelectLayerByAttribute_management (county, \"\", '('cname') = ('value')')\n",
    "        arcpy.CopyFeatures_management(county, C_output + value)\n",
    "        print arcpy.GetMessages()   "
   ]
  },
  {
   "cell_type": "markdown",
   "metadata": {},
   "source": [
    "I fought with the value list for about two hours but kept recieving a SyntaxError when it came to selecting the attributes.  \n",
    "\n",
    "\n",
    ">  File \"<ipython-input-38-c14d2df2ae18>\", line 9  \n",
    "    arcpy.SelectLayerByAttribute_management (county, \"\", '('cname') = ('value')')  \n",
    "                                                                ^\n",
    "SyntaxError: invalid syntax  \n",
    "\n",
    "2/2/2016: 3:36.\n",
    "I put in a help request online to the TA. While waiting for a responce, I decided to use what I had and try to get a population count, and return to the SyntaxError issue later."
   ]
  },
  {
   "cell_type": "code",
   "execution_count": 6,
   "metadata": {
    "collapsed": false
   },
   "outputs": [
    {
     "name": "stdout",
     "output_type": "stream",
     "text": [
      "Executing: Split countyjoin.shp countyjoin.shp WashingtonFIPS.CountyName \"F:\\UW\\GEOG458 Python\\Arclab\\Workspace\\countysplit\" #\n",
      "Start Time: Tue Feb 02 10:54:50 2016\n",
      "Reading Features...\n",
      "Cracking Features...\n",
      "Assembling Features...\n",
      "Succeeded at Tue Feb 02 10:55:43 2016 (Elapsed Time: 53.07 seconds)\n"
     ]
    }
   ],
   "source": [
    "# A new split script.\n",
    "\n",
    "arcpy.env.workspace=r\"F:\\UW\\GEOG458 Python\\Arclab\\Workspace\"    # Because workspace.                  \n",
    "C_output = r\"F:\\UW\\GEOG458 Python\\Arclab\\Workspace\\countysplit\" \n",
    "county = \"countyjoin.shp\"\n",
    "name = \"WashingtonFIPS.CountyName\"\n",
    "         \n",
    "print arcpy.GetMessages()  "
   ]
  },
  {
   "cell_type": "markdown",
   "metadata": {},
   "source": [
    "### Step 2: Calculating County Populations"
   ]
  },
  {
   "cell_type": "code",
   "execution_count": 2,
   "metadata": {
    "collapsed": false
   },
   "outputs": [
    {
     "name": "stdout",
     "output_type": "stream",
     "text": [
      "[u'Adams.shp', u'Adams_.shp', u'Asotin.shp', u'Asotin_.shp', u'Benton.shp', u'Benton_.shp', u'Chelan.shp', u'Chelan_.shp', u'Clallam.shp', u'Clallam_.shp', u'Clark.shp', u'Clark_.shp', u'Columbia.shp', u'Columbia_.shp', u'Cowlitz.shp', u'Cowlitz_.shp', u'Douglas.shp', u'Douglas_.shp', u'Ferry.shp', u'Ferry_.shp', u'Franklin.shp', u'Franklin_.shp', u'Garfield.shp', u'Garfield_.shp', u'Grant.shp', u'Grant_.shp', u'Grays Harbor.shp', u'Grays Harbor_.shp', u'Island.shp', u'Island_.shp', u'Jefferson.shp', u'Jefferson_.shp', u'King.shp', u'King_.shp', u'Kitsap.shp', u'Kitsap_.shp', u'Kittitas.shp', u'Kittitas_.shp', u'Klickitat.shp', u'Klickitat_.shp', u'Lewis.shp', u'Lewis_.shp', u'Lincoln.shp', u'Lincoln_.shp', u'Mason.shp', u'Mason_.shp', u'Okanogan.shp', u'Okanogan_.shp', u'Pacific.shp', u'Pacific_.shp', u'Pend Oreille.shp', u'Pend Oreille_.shp', u'Pierce.shp', u'Pierce_.shp', u'San Juan.shp', u'San Juan_.shp', u'Skagit.shp', u'Skagit_.shp', u'Skamania.shp', u'Skamania_.shp', u'Snohomish.shp', u'Snohomish_.shp', u'Spokane.shp', u'Spokane_.shp', u'Stevens.shp', u'Stevens_.shp', u'Thurston.shp', u'Thurston_.shp', u'Wahkiakum.shp', u'Wahkiakum_.shp', u'Walla Walla.shp', u'Walla Walla_.shp', u'Whatcom.shp', u'Whatcom_.shp', u'Whitman.shp', u'Whitman_.shp', u'Yakima.shp', u'Yakima_.shp']\n"
     ]
    }
   ],
   "source": [
    "# Getting list of shapefiles.\n",
    "\n",
    "import arcpy\n",
    "arcpy.env.workspace=r\"F:\\UW\\GEOG458 Python\\Arclab\\Workspace\\countysplit\"\n",
    "\n",
    "countlist = arcpy.ListFiles (\"*.shp\") \n",
    "print countlist\n",
    "\n",
    "# I was able to get it to list all items but I needed to delete the duplicate shapefiles that the Split Analysis created."
   ]
  },
  {
   "cell_type": "code",
   "execution_count": 7,
   "metadata": {
    "collapsed": false
   },
   "outputs": [
    {
     "ename": "TypeError",
     "evalue": "bad operand type for unary +: 'str'",
     "output_type": "error",
     "traceback": [
      "\u001b[1;31m---------------------------------------------------------------------------\u001b[0m",
      "\u001b[1;31mTypeError\u001b[0m                                 Traceback (most recent call last)",
      "\u001b[1;32m<ipython-input-7-dcff30e83641>\u001b[0m in \u001b[0;36m<module>\u001b[1;34m()\u001b[0m\n\u001b[0;32m      4\u001b[0m \u001b[1;33m\u001b[0m\u001b[0m\n\u001b[0;32m      5\u001b[0m \u001b[0menv\u001b[0m\u001b[1;33m.\u001b[0m\u001b[0mworkspace\u001b[0m \u001b[1;33m=\u001b[0m \u001b[1;34mr\"F:\\UW\\GEOG458 Python\\Arclab\\Workspace\\countysplit\"\u001b[0m\u001b[1;33m\u001b[0m\u001b[0m\n\u001b[1;32m----> 6\u001b[1;33m \u001b[0marcpy\u001b[0m\u001b[1;33m.\u001b[0m\u001b[0mmanagement\u001b[0m\u001b[1;33m.\u001b[0m\u001b[0mDelete\u001b[0m\u001b[1;33m(\u001b[0m \u001b[1;33m*\u001b[0m \u001b[1;33m+\u001b[0m \u001b[1;34m'_.shp'\u001b[0m\u001b[1;33m)\u001b[0m\u001b[1;33m\u001b[0m\u001b[0m\n\u001b[0m\u001b[0;32m      7\u001b[0m \u001b[1;32mprint\u001b[0m \u001b[0marcpy\u001b[0m\u001b[1;33m.\u001b[0m\u001b[0mGetMessages\u001b[0m\u001b[1;33m(\u001b[0m\u001b[1;33m)\u001b[0m\u001b[1;33m\u001b[0m\u001b[0m\n",
      "\u001b[1;31mTypeError\u001b[0m: bad operand type for unary +: 'str'"
     ]
    }
   ],
   "source": [
    "# Deleting Duplicates\n",
    "import arcpy\n",
    "from arcpy import env\n",
    "\n",
    "env.workspace = r\"F:\\UW\\GEOG458 Python\\Arclab\\Workspace\\countysplit\"\n",
    "arcpy.management.Delete( * + '_.shp')\n",
    "print arcpy.GetMessages()"
   ]
  },
  {
   "cell_type": "code",
   "execution_count": 8,
   "metadata": {
    "collapsed": false
   },
   "outputs": [
    {
     "name": "stdout",
     "output_type": "stream",
     "text": [
      "Executing: Delete *_.shp #\n",
      "Start Time: Tue Feb 02 14:22:25 2016\n",
      "WARNING 000110: *_.shp does not exist\n",
      "Succeeded at Tue Feb 02 14:22:25 2016 (Elapsed Time: 0.00 seconds)\n"
     ]
    }
   ],
   "source": [
    "# Deleting Duplicates\n",
    "import arcpy\n",
    "from arcpy import env\n",
    "\n",
    "env.workspace = r\"F:\\UW\\GEOG458 Python\\Arclab\\Workspace\\countysplit\"\n",
    "arcpy.Delete_management('*_.shp')\n",
    "print arcpy.GetMessages()"
   ]
  },
  {
   "cell_type": "code",
   "execution_count": 8,
   "metadata": {
    "collapsed": false
   },
   "outputs": [
    {
     "name": "stdout",
     "output_type": "stream",
     "text": [
      "[u'Adams.shp', u'Adams_.shp', u'Asotin.shp', u'Asotin_.shp', u'Benton.shp', u'Benton_.shp', u'Chelan.shp', u'Chelan_.shp', u'Clallam.shp', u'Clallam_.shp', u'Clark.shp', u'Clark_.shp', u'Columbia.shp', u'Columbia_.shp', u'Cowlitz.shp', u'Cowlitz_.shp', u'Douglas.shp', u'Douglas_.shp', u'Ferry.shp', u'Ferry_.shp', u'Franklin.shp', u'Franklin_.shp', u'Garfield.shp', u'Garfield_.shp', u'Grant.shp', u'Grant_.shp', u'Grays Harbor.shp', u'Grays Harbor_.shp', u'Island.shp', u'Island_.shp', u'Jefferson.shp', u'Jefferson_.shp', u'King.shp', u'King_.shp', u'Kitsap.shp', u'Kitsap_.shp', u'Kittitas.shp', u'Kittitas_.shp', u'Klickitat.shp', u'Klickitat_.shp', u'Lewis.shp', u'Lewis_.shp', u'Lincoln.shp', u'Lincoln_.shp', u'Mason.shp', u'Mason_.shp', u'Okanogan.shp', u'Okanogan_.shp', u'Pacific.shp', u'Pacific_.shp', u'Pend Oreille.shp', u'Pend Oreille_.shp', u'Pierce.shp', u'Pierce_.shp', u'San Juan.shp', u'San Juan_.shp', u'Skagit.shp', u'Skagit_.shp', u'Skamania.shp', u'Skamania_.shp', u'Snohomish.shp', u'Snohomish_.shp', u'Spokane.shp', u'Spokane_.shp', u'Stevens.shp', u'Stevens_.shp', u'Thurston.shp', u'Thurston_.shp', u'Wahkiakum.shp', u'Wahkiakum_.shp', u'Walla Walla.shp', u'Walla Walla_.shp', u'Whatcom.shp', u'Whatcom_.shp', u'Whitman.shp', u'Whitman_.shp', u'Yakima.shp', u'Yakima_.shp']\n"
     ]
    }
   ],
   "source": [
    "# Getting list of shapefiles.\n",
    "\n",
    "import arcpy\n",
    "arcpy.env.workspace=r\"F:\\UW\\GEOG458 Python\\Arclab\\Workspace\\countysplit\"\n",
    "\n",
    "countlist = arcpy.ListFiles (\"*.shp\") \n",
    "print countlist\n",
    "\n",
    "# I was able to get it to list all items but I needed to delete the duplicate shapefiles that the Split Analysis created."
   ]
  },
  {
   "cell_type": "code",
   "execution_count": null,
   "metadata": {
    "collapsed": false
   },
   "outputs": [],
   "source": [
    "# I tried to run a simple python script that would delete a file.\n",
    "import os\n",
    "outSHPS= r\"F:\\UW\\GEOG458 Python\\Arclab\\Workspace\\countysplit\" \n",
    "print 'removing duplicate shapefiles'\n",
    "\n",
    "os.path.isdir(outSHPS):\n",
    "    files = os.listdir(outSHPS)\n",
    "    for f in files:\n",
    "      full_path = os.path.join(outSHPS, f)\n",
    "      if not os.path.isdir(full_path):\n",
    "        os.remove(full_path)\n",
    "os.remove('*_.shp')\n",
    "print(\"File Removed!\")\n",
    "# I reworked the python script a few times but could not get it to delete the duplicate files I wanted it to."
   ]
  },
  {
   "cell_type": "code",
   "execution_count": null,
   "metadata": {
    "collapsed": true
   },
   "outputs": [],
   "source": [
    "#  Getting population in shapefiles.\n",
    "#  I decided to try to use dictionary files.\n",
    "\n",
    "for count in countlist:\n",
    "        arcpy.management.SelectLayerByAttribute(yourIntersectionsLayer,\"NEW_SELECTION\",\"\\\"ObjectID\\\" = \"+str(row.ObjectID))  \n",
    "            if x < 0:\n",
    "                eventCursor = arcpy.SearchCursor(eventsLayer,\"\\\"Year\\\" = 2007\")\n",
    "                for event in eventCursor:\n",
    "                    year3+=1\n",
    "                del event,eventCursor"
   ]
  }
 ],
 "metadata": {
  "kernelspec": {
   "display_name": "Python 2",
   "language": "python",
   "name": "python2"
  },
  "language_info": {
   "codemirror_mode": {
    "name": "ipython",
    "version": 2
   },
   "file_extension": ".py",
   "mimetype": "text/x-python",
   "name": "python",
   "nbconvert_exporter": "python",
   "pygments_lexer": "ipython2",
   "version": "2.7.10"
  }
 },
 "nbformat": 4,
 "nbformat_minor": 0
}
