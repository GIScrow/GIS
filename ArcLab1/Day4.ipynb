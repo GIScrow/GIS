{
 "cells": [
  {
   "cell_type": "code",
   "execution_count": 14,
   "metadata": {
    "collapsed": true
   },
   "outputs": [],
   "source": [
    "import sys\n",
    "sys.path.append(r'C:\\Program Files (x86)\\ArcGIS\\Desktop10.3\\bin')\n",
    "sys.path.append(r'C:\\Program Files (x86)\\ArcGIS\\Desktop10.3\\arcpy')\n",
    "sys.path.append(r'C:\\Program Files (x86)\\ArcGIS\\Desktop10.3\\ArcToolbox\\Scripts')"
   ]
  },
  {
   "cell_type": "code",
   "execution_count": 4,
   "metadata": {
    "collapsed": true
   },
   "outputs": [],
   "source": [
    "# Because Workspace\n",
    "import arcpy     \n",
    "arcpy.env.workspace=r\"F:\\UW\\GEOG458 Python\\Arclab\\day4\\workspace\" "
   ]
  },
  {
   "cell_type": "markdown",
   "metadata": {},
   "source": [
    "### Step 0: Splitting Shapefile into Counties (Test run.)"
   ]
  },
  {
   "cell_type": "code",
   "execution_count": null,
   "metadata": {
    "collapsed": true
   },
   "outputs": [],
   "source": [
    "# script from chapter 7, pg 130, rewriten so as to work for this assignment.\n",
    "\n",
    "import arcpy\n",
    "C_source = r\"F:\\UW\\GEOG458 Python\\Arclab\\Workspace\\saep_bg10.shp\"                  \n",
    "C_output = r\"F:\\UW\\GEOG458 Python\\Arclab\\Workspace\\COUNTY_001.shp\"\n",
    "county = \"COUNTYFP10\"\n",
    "delimfield = arcpy.AddFieldDelimiters(C_source, county)\n",
    "arcpy.Select_analysis(C_source, C_output, delimfield + \" = '001'\")\n",
    "\n",
    "# NOTE: This script was ultimatly not used due to complications in looping."
   ]
  },
  {
   "cell_type": "markdown",
   "metadata": {},
   "source": [
    "###### 1.31.2016:\n",
    "    \n",
    "I went through a variety of methodoligies when trying to automate the above script. First I thought I could copy the scritp and do a line for each one so I ran a script to say what the county codes were After realizing there would be a lot of county codes, I then tried to make a loop to automate inserting a new county code into the select analysis as it came across it. Unfortunetly the script refuse to read the code."
   ]
  },
  {
   "cell_type": "markdown",
   "metadata": {
    "collapsed": true
   },
   "source": [
    "### Step 1: Joining Tables"
   ]
  },
  {
   "cell_type": "markdown",
   "metadata": {},
   "source": [
    "###### 2.3.2016:   \n",
    "\n",
    "I tried a wide variaty of methods and attempts while trying to get the tables to join the way needed\n",
    "while still having a file that I could dissolve and use to split the counties appropriate, so that\n",
    "the final shapefile results were listed by county name."
   ]
  },
  {
   "cell_type": "code",
   "execution_count": null,
   "metadata": {
    "collapsed": false
   },
   "outputs": [],
   "source": [
    "# Final result of script used;\n",
    "\n",
    "tablefile = \"WashingtonFIPS.dbf\"\n",
    "tablefield = \"FIPSCounty\"\n",
    "shapefile = \"saep_bg10.shp\"\n",
    "shapefield = \"COUNTYFP10\"\n",
    "cjoined = \"countyjoin\"\n",
    "\n",
    "#Creating a new feature \n",
    "arcpy.MakeFeatureLayer_management(shapefile, cjoined)  \n",
    "  \n",
    "#Joining tables  \n",
    "arcpy.AddJoin_management(cjoined, shapefield, tablefile, tablefield)  \n",
    "  \n",
    "#Export joined layer to a new shapefile\n",
    "arcpy.FeatureClassToFeatureClass_conversion(cjoined, r\"F:\\UW\\GEOG458 Python\\Arclab\\day4\\workspace\", cjoined)  \n",
    "\n",
    "print arcpy.GetMessages()  "
   ]
  },
  {
   "cell_type": "code",
   "execution_count": 8,
   "metadata": {
    "collapsed": false
   },
   "outputs": [
    {
     "name": "stdout",
     "output_type": "stream",
     "text": [
      "Executing: AddJoin countyjoin.shp COUNTYFP10 \"F:\\UW\\GEOG458 Python\\Arclab\\day4\\workspace\\WashingtonFIPS.dbf\" FIPSCounty KEEP_ALL\n",
      "Start Time: Wed Feb 03 07:40:39 2016\n",
      "Succeeded at Wed Feb 03 07:40:39 2016 (Elapsed Time: 0.07 seconds)\n"
     ]
    }
   ],
   "source": [
    "# Used as reference for the prior file. I tried a mixture of the two in attempt to get the \n",
    "# cointyjoined.shp to be made correctly.\n",
    "\n",
    "tablefile = \"WashingtonFIPS.dbf\"\n",
    "tablefield = \"FIPSCounty\"\n",
    "shapefile = \"saep_bg10.shp\"\n",
    "shapefield = \"COUNTYFP10\"\n",
    "cjoined = \"countyjoin.shp\"\n",
    "\n",
    "arcpy.MakeFeatureLayer_management (shapefile, cjoined)  # Added to solve the AddJoin 'ERROR 000840' regarding shapefile type.\n",
    "arcpy.AddJoin_management(cjoined, shapefield, tablefile, tablefield) # I reversed the order in which I joined the fields \n",
    "                                                                        # after multipule errors with joining the database \n",
    "                                                                        # with the shapefile.\n",
    "print arcpy.GetMessages()  "
   ]
  },
  {
   "cell_type": "code",
   "execution_count": 4,
   "metadata": {
    "collapsed": false
   },
   "outputs": [
    {
     "name": "stdout",
     "output_type": "stream",
     "text": [
      "saep_bg10.STATEFP10\n",
      "saep_bg10.COUNTYFP10\n",
      "saep_bg10.TRACTCE10\n",
      "saep_bg10.BLKGRPCE10\n",
      "saep_bg10.GEOID10\n",
      "saep_bg10.NAMELSAD10\n",
      "saep_bg10.MTFCC10\n",
      "saep_bg10.FUNCSTAT10\n",
      "saep_bg10.Version\n",
      "WashingtonFIPS.CountyName\n",
      "WashingtonFIPS.FIPSCounty\n",
      "WashingtonFIPS.STATEFP10\n",
      "WashingtonFIPS.COUNTYFP10\n",
      "WashingtonFIPS.TRACTCE10\n",
      "WashingtonFIPS.BLKGRPCE10\n",
      "WashingtonFIPS.GEOID10\n",
      "WashingtonFIPS.NAMELSAD10\n",
      "WashingtonFIPS.MTFCC10\n",
      "WashingtonFIPS.FUNCSTAT10\n",
      "WashingtonFIPS.Version\n"
     ]
    }
   ],
   "source": [
    "# listing the results from the created file.\n",
    "\n",
    "fieldlist = arcpy.ListFields(cjoined, \"\", \"String\")\n",
    "for field in fieldlist:\n",
    "    print field.name \n",
    "# Script added after having difficulty figuring out the name of the \n",
    "# \"CountyName\" field that would be used for the split analysis."
   ]
  },
  {
   "cell_type": "markdown",
   "metadata": {},
   "source": [
    "###### 2.1.2016:  \n",
    "\n",
    "> I had tried to find a way to write a script that would list all the files in the folder where \n",
    "the shape files had been split off to, and have a python list with those shapefile names.\n",
    "\n",
    "> Mid processes, I spoke with Hardy Wooldridge who mentioned that what was wanted, was a file that had all of the county names, not just the county codes. He also mentioned about the process of writing out what you want to accomplish with the code, and what tools could be used in ArcMap so as to achieve what was wanted. While I had already used the Split analysis, this did mean that there were tools to merge the information regarding the population in the shape files to total population. \n",
    "\n",
    "> I decided to re-run the split analysis, after merging the County Names so as to not have to write more code then was needed.\n",
    "\n",
    "> I continued trying several different methods until using the scripts above."
   ]
  },
  {
   "cell_type": "markdown",
   "metadata": {},
   "source": [
    "###### 2.2.2016:\n",
    "\n",
    "> While using a mix of ArcMap and the help files, I tried to get the Addjoin_management script to work for three hours without success.\n",
    "\n",
    "> The following day I met with Wooldridge who explained that the order in which I was joining layers were backwards, and that the file needed to be a certain type, which was why the script was not accepting the data I was trying to use. I then reversed the order, and used a script to turn the shapefile being used into a layer.\n",
    "I then focused on organizing files by population type before eventualy going back to the origional script and attempting to rewrite it."
   ]
  },
  {
   "cell_type": "markdown",
   "metadata": {
    "collapsed": true
   },
   "source": [
    "### Step 2: Splitting the Joined Table"
   ]
  },
  {
   "cell_type": "code",
   "execution_count": 11,
   "metadata": {
    "collapsed": false
   },
   "outputs": [
    {
     "data": {
      "text/plain": [
       "<Result 'F:\\\\UW\\\\GEOG458 Python\\\\Arclab\\\\day4\\\\workspace\\\\countyjoin_copy.shp'>"
      ]
     },
     "execution_count": 11,
     "metadata": {},
     "output_type": "execute_result"
    }
   ],
   "source": [
    "# Making a cookie cutter shape\n",
    "# An end result of the prior day's struggles. After having multipule issue with \n",
    "# having split analysis work through ussing just one shape file, I made a \"cookie Cutter\" \n",
    "# shapefile from the countyjoin.shp.\n",
    "            \n",
    "cjoined = \"countyjoin.shp\"\n",
    "cjoined_copy = \"countyjoin_copy.shp\"\n",
    "cname = \"WashingtonFIPS.CountyName\"\n",
    "dissolved = \"cdissolved.shp\"\n",
    "\n",
    "# First I need to copy the shape file\n",
    "arcpy.CopyFeatures_management (cjoined, cjoined_copy)"
   ]
  },
  {
   "cell_type": "code",
   "execution_count": 12,
   "metadata": {
    "collapsed": false
   },
   "outputs": [
    {
     "name": "stdout",
     "output_type": "stream",
     "text": [
      "saep_bg10_\n",
      "saep_bg101\n",
      "saep_bg1_1\n",
      "saep_bg1_2\n",
      "saep_bg1_3\n",
      "saep_bg1_4\n",
      "saep_bg1_5\n",
      "saep_bg1_6\n",
      "saep_bg_13\n",
      "Washingt_1\n",
      "Washingt_2\n",
      "Washingt_3\n",
      "Washingt_4\n",
      "Washingt_5\n",
      "Washingt_6\n",
      "Washingt_7\n",
      "Washingt_8\n",
      "Washingt_9\n",
      "Washing_10\n",
      "Washing_17\n"
     ]
    }
   ],
   "source": [
    "# listing the results from the created file.\n",
    "\n",
    "fieldlist = arcpy.ListFields(cjoined_copy, \"\", \"String\")\n",
    "for field in fieldlist:\n",
    "    print field.name \n",
    "# Script added after having difficulty figuring out the name of the \n",
    "# \"CountyName\" field that would be used for the split analysis."
   ]
  },
  {
   "cell_type": "code",
   "execution_count": 13,
   "metadata": {
    "collapsed": false
   },
   "outputs": [
    {
     "name": "stdout",
     "output_type": "stream",
     "text": [
      "Executing: Dissolve \"F:\\UW\\GEOG458 Python\\Arclab\\day4\\workspace\\countyjoin.shp\" \"F:\\UW\\GEOG458 Python\\Arclab\\day4\\workspace\\cdissolved.shp\" Washingt_1 # MULTI_PART DISSOLVE_LINES\n",
      "Start Time: Wed Feb 03 08:17:24 2016\n",
      "Sorting Attributes...\n",
      "Dissolving...\n",
      "Succeeded at Wed Feb 03 08:17:28 2016 (Elapsed Time: 4.18 seconds)\n"
     ]
    }
   ],
   "source": [
    "# Desolving the shapefile\n",
    "arcpy.Dissolve_management (cjoined, dissolved, \"Washingt_1\")\n",
    "print arcpy.GetMessages() "
   ]
  },
  {
   "cell_type": "code",
   "execution_count": 14,
   "metadata": {
    "collapsed": false,
    "scrolled": true
   },
   "outputs": [
    {
     "name": "stdout",
     "output_type": "stream",
     "text": [
      "Washingt_1\n"
     ]
    }
   ],
   "source": [
    "# checking the fields in dissolved.shp\n",
    "\n",
    "fieldlist = arcpy.ListFields(dissolved, \"\", \"String\")\n",
    "for field in fieldlist:\n",
    "    print field.name \n",
    "# Script added after having difficulty figuring out the name of the \n",
    "# \"CountyName\" field that would be used for the split analysis."
   ]
  },
  {
   "cell_type": "markdown",
   "metadata": {},
   "source": [
    "### Step 3: Splitting the Shapefiles"
   ]
  },
  {
   "cell_type": "markdown",
   "metadata": {},
   "source": [
    "After testing the initial split counties, I discovered that the split analysis tool was leaving out \n",
    "counties in the split. I therefore needed to try running a seperate scripts, which resulted in the past few days writing and re-writing\n",
    "as I tried to get the splitting to work, until eventualy using a copy of the countyjoin.shp, which worked."
   ]
  },
  {
   "cell_type": "code",
   "execution_count": 16,
   "metadata": {
    "collapsed": false
   },
   "outputs": [
    {
     "name": "stdout",
     "output_type": "stream",
     "text": [
      "Executing: Split \"F:\\UW\\GEOG458 Python\\Arclab\\day4\\workspace\\countyjoin.shp\" \"F:\\UW\\GEOG458 Python\\Arclab\\day4\\workspace\\cdissolved.shp\" Washingt_1 \"F:\\UW\\GEOG458 Python\\Arclab\\day4\\workspace\\temp\" #\n",
      "Start Time: Wed Feb 03 08:18:55 2016\n",
      "Reading Features...\n",
      "Cracking Features...\n",
      "Assembling Features...\n",
      "Succeeded at Wed Feb 03 08:19:57 2016 (Elapsed Time: 1 minutes 1 seconds)\n"
     ]
    }
   ],
   "source": [
    "# I cut the new table by using the cookie cutter shape made earlier\n",
    "               \n",
    "shp_output = r\"F:\\UW\\GEOG458 Python\\Arclab\\day4\\workspace\\temp\" \n",
    "# shp_source was not needed, workspace already set the source.\n",
    "\n",
    "cjoined = \"countyjoin.shp\"\n",
    "dissolved = \"cdissolved.shp\"\n",
    "county = \"COUNTYFP10\"\n",
    "cname = \"WashingtonFIPS.CountyName\"\n",
    "dname = \"Washingt_1\"\n",
    "\n",
    "arcpy.Split_analysis (cjoined, dissolved, dname, shp_output) #I used ArcMap and Help file to know what fields needed to be filled.\n",
    "                            # I origionaly used the shapefile twice so as to get split analysis to use information in the same file.\n",
    "print arcpy.GetMessages()   # From chapter 5.10, page 113 of the book. \n",
    "                            # I had hoped it would show the process as it was working, \n",
    "                            # but it did not give any of the messages until after all of the scripts were done running."
   ]
  },
  {
   "cell_type": "markdown",
   "metadata": {
    "collapsed": true
   },
   "source": [
    "### Step 4: Organizing Counties by Population"
   ]
  },
  {
   "cell_type": "code",
   "execution_count": 5,
   "metadata": {
    "collapsed": false
   },
   "outputs": [
    {
     "name": "stdout",
     "output_type": "stream",
     "text": [
      "[u'Adams.shp', u'Asotin.shp', u'Benton.shp', u'Chelan.shp', u'Clallam.shp', u'Clark.shp', u'Columbia.shp', u'Cowlitz.shp', u'Douglas.shp', u'Ferry.shp', u'Franklin.shp', u'Garfield.shp', u'Grant.shp', u'Grays Harbor.shp', u'Island.shp', u'Jefferson.shp', u'King.shp', u'Kitsap.shp', u'Kittitas.shp', u'Klickitat.shp', u'Lewis.shp', u'Lincoln.shp', u'Mason.shp', u'Okanogan.shp', u'Pacific.shp', u'Pend Oreille.shp', u'Pierce.shp', u'San Juan.shp', u'Skagit.shp', u'Skamania.shp', u'Snohomish.shp', u'Spokane.shp', u'Stevens.shp', u'Thurston.shp', u'Wahkiakum.shp', u'Walla Walla.shp', u'Whatcom.shp', u'Whitman.shp', u'Yakima.shp']\n"
     ]
    }
   ],
   "source": [
    "# As this was an entirely new group of code for organizing the shapefile, I restarted my enviorment.\n",
    "import arcpy     \n",
    "arcpy.env.workspace = r\"F:\\UW\\GEOG458 Python\\Arclab\\day4\\workspace\\temp\" \n",
    "countyshape = arcpy.ListFiles( \"*\" + \".shp\")\n",
    "print countyshape"
   ]
  },
  {
   "cell_type": "code",
   "execution_count": 34,
   "metadata": {
    "collapsed": false
   },
   "outputs": [
    {
     "ename": "NameError",
     "evalue": "name 'fields' is not defined",
     "output_type": "error",
     "traceback": [
      "\u001b[1;31m---------------------------------------------------------------------------\u001b[0m",
      "\u001b[1;31mNameError\u001b[0m                                 Traceback (most recent call last)",
      "\u001b[1;32m<ipython-input-34-8a230a7a4a5f>\u001b[0m in \u001b[0;36m<module>\u001b[1;34m()\u001b[0m\n\u001b[0;32m      1\u001b[0m \u001b[1;32mfor\u001b[0m \u001b[0mshape\u001b[0m \u001b[1;32min\u001b[0m \u001b[0mcountyshape\u001b[0m\u001b[1;33m:\u001b[0m\u001b[1;33m\u001b[0m\u001b[0m\n\u001b[0;32m      2\u001b[0m     \u001b[0mrows\u001b[0m \u001b[1;33m=\u001b[0m \u001b[0marcpy\u001b[0m\u001b[1;33m.\u001b[0m\u001b[0mSearchCursor\u001b[0m\u001b[1;33m(\u001b[0m\u001b[1;34m\"F://UW//GEOG458 Python//Arclab//day4//workspace//temp//\"\u001b[0m \u001b[1;33m+\u001b[0m \u001b[0mshape\u001b[0m\u001b[1;33m,\u001b[0m \u001b[0mfields\u001b[0m\u001b[1;33m=\u001b[0m\u001b[1;34m\"saep_bg_43\"\u001b[0m\u001b[1;33m)\u001b[0m\u001b[1;33m\u001b[0m\u001b[0m\n\u001b[1;32m----> 3\u001b[1;33m     \u001b[1;32mprint\u001b[0m \u001b[0mfields\u001b[0m\u001b[1;33m[\u001b[0m\u001b[1;36m0\u001b[0m\u001b[1;33m]\u001b[0m\u001b[1;33m\u001b[0m\u001b[0m\n\u001b[0m",
      "\u001b[1;31mNameError\u001b[0m: name 'fields' is not defined"
     ]
    }
   ],
   "source": [
    "for shape in countyshape: \n",
    "    rows = arcpy.SearchCursor(\"F://UW//GEOG458 Python//Arclab//day4//workspace//temp//\" + shape, fields=\"saep_bg_43\") \n",
    "    print fields[0]\n",
    "    \n",
    "# one of my initial attempts, I tried to find a way to get searcursor to print the field list out by order. \n",
    "# through one attempt, I got it to work but it resulted in a triangle scheme result."
   ]
  },
  {
   "cell_type": "code",
   "execution_count": 47,
   "metadata": {
    "collapsed": false
   },
   "outputs": [
    {
     "name": "stdout",
     "output_type": "stream",
     "text": [
      "[[u'King.shp', 1904582.9979999992], [u'Pierce.shp', 780910.0009999995], [u'Snohomish.shp', 706693.0000000005], [u'Spokane.shp', 458106.99800000014], [u'Clark.shp', 424516.99999999953], [u'Thurston.shp', 250007.99999999994], [u'Kitsap.shp', 244195.0], [u'Yakima.shp', 241252.99999999988], [u'Whatcom.shp', 196289.00000000003], [u'Benton.shp', 176409.00000000015], [u'Skagit.shp', 115776.99999999999], [u'Cowlitz.shp', 101514.0], [u'Grant.shp', 88920.00000000003], [u'Franklin.shp', 77722.99999999999], [u'Island.shp', 77285.99999999999], [u'Lewis.shp', 75002.99999999997], [u'Chelan.shp', 71721.00000000003], [u'Grays Harbor.shp', 70146.99999999997], [u'Clallam.shp', 69657.0], [u'Mason.shp', 58625.99999999999], [u'Walla Walla.shp', 54355.0], [u'Stevens.shp', 43326.99999999999], [u'Okanogan.shp', 40526.99999999999], [u'Whitman.shp', 39137.00100000001], [u'Kittitas.shp', 38880.00000000001], [u'Douglas.shp', 38464.0], [u'Jefferson.shp', 29426.999999999996], [u'Asotin.shp', 21496.000000000004], [u'Pacific.shp', 20602.000000000004], [u'Klickitat.shp', 20307.000000000004], [u'Adams.shp', 18779.000000000004], [u'San Juan.shp', 15745.0], [u'Pend Oreille.shp', 12897.0], [u'Skamania.shp', 11121.999999999998], [u'Lincoln.shp', 10506.0], [u'Ferry.shp', 7348.0], [u'Columbia.shp', 4031.9999999999995], [u'Wahkiakum.shp', 3952.0], [u'Garfield.shp', 2215.0]]\n"
     ]
    }
   ],
   "source": [
    "notetoself = \"saep_bg_43\"\n",
    "mylist = []\n",
    "\n",
    "for shape in countyshape:\n",
    "    count = [] # I made new list to sort the appended population into.\n",
    "    rows = arcpy.da.SearchCursor(\"F://UW//GEOG458 Python//Arclab//day4//workspace//temp//\" + shape, \"saep_bg_43\") \n",
    "    for row in rows:  \n",
    "        count.append(rows[0]) # appends the population into the count list.\n",
    "        pop = sum(count) # counts up the sum of the population.\n",
    "    mylist.append([shape, pop]) # creates the nested list of counties and populations.\n",
    "    \n",
    "\n",
    "from operator import itemgetter  # After having issues with scripting the list, I decided to use itemgetter to simpilize the sorting. \n",
    "\n",
    "sorted_list = sorted(mylist, key=itemgetter(1), reverse=True) # I set itemgetter to sort the list \n",
    "                                                              # by the second item in the nested list.\n",
    "print sorted_list\n",
    "#itemgetter"
   ]
  },
  {
   "cell_type": "code",
   "execution_count": 63,
   "metadata": {
    "collapsed": false
   },
   "outputs": [
    {
     "name": "stdout",
     "output_type": "stream",
     "text": [
      "The top ten most populated counties, in descending order is:\n",
      "[u'King.shp', 1904582.9979999992]\n",
      "[u'Pierce.shp', 780910.0009999995]\n",
      "[u'Snohomish.shp', 706693.0000000005]\n",
      "[u'Spokane.shp', 458106.99800000014]\n",
      "[u'Clark.shp', 424516.99999999953]\n",
      "[u'Thurston.shp', 250007.99999999994]\n",
      "[u'Kitsap.shp', 244195.0]\n",
      "[u'Yakima.shp', 241252.99999999988]\n",
      "[u'Whatcom.shp', 196289.00000000003]\n"
     ]
    }
   ],
   "source": [
    "print 'The top ten most populated counties, in descending order is:'\n",
    "rank = 0\n",
    "\n",
    "for row in sorted_list[0:9]:\n",
    "    rank = +1\n",
    "    print row"
   ]
  },
  {
   "cell_type": "code",
   "execution_count": null,
   "metadata": {
    "collapsed": false
   },
   "outputs": [],
   "source": [
    "# Another attempt at sourting counties which had not worked.\n",
    "pop = \"saep_bg_43\"\n",
    "\n",
    "for shape in countyshape:\n",
    "    rows = arcpy.SearchCursor(\"F://UW//GEOG458 Python//Arclab//day4//workspace//temp//\" + shape, fields=\"Washingt_1; saep_bg_43\") \n",
    "    for row in rows:  \n",
    "        shape =  row.getValue(\"saep_bg_43\")\n",
    "        print (\"County: {0}, Population: {1}\".format(row.getValue(\"Washingt_1\"), row.getValue(\"saep_bg_43\")))  "
   ]
  },
  {
   "cell_type": "markdown",
   "metadata": {
    "collapsed": true
   },
   "source": [
    "### Step 5: Turning Shapefiles into GeoJSON"
   ]
  },
  {
   "cell_type": "code",
   "execution_count": 18,
   "metadata": {
    "collapsed": true
   },
   "outputs": [],
   "source": [
    "# Setting up GeoJSON\n",
    "from subprocess import call\n",
    "import os\n",
    "\n",
    "os.environ[\"GDAL_DATA\"] = \"C:\\\\OSGeo4W\\\\share\\\\gdal\"\n",
    "os.environ[\"GDAL_DRIVER_PATH\"] = \"C:\\\\OSGeo4W\\\\bin\\\\gdalplugins\"\n",
    "os.environ[\"PROJ_LIB\"] = \"C:\\\\OSGeo4W\\\\share\\\\proj\"\n",
    "os.environ[\"PATH\"] = \"C:\\\\OSGeo4W\\\\bin;\"+os.environ[\"PATH\"]+\";C:\\\\OSGeo4W\\\\apps\\\\msys\\\\bin;C:\\\\OSGeo4W\\\\apps\\\\Python27\\\\Scripts\""
   ]
  },
  {
   "cell_type": "code",
   "execution_count": 42,
   "metadata": {
    "collapsed": false
   },
   "outputs": [
    {
     "name": "stdout",
     "output_type": "stream",
     "text": [
      "[u'Adams', u'Asotin', u'Benton', u'Chelan', u'Clallam', u'Clark', u'Columbia', u'Cowlitz', u'Douglas', u'Ferry', u'Franklin', u'Garfield', u'Grant', u'Grays Harbor', u'Island', u'Jefferson', u'King', u'Kitsap', u'Kittitas', u'Klickitat', u'Lewis', u'Lincoln', u'Mason', u'Okanogan', u'Pacific', u'Pend Oreille', u'Pierce', u'San Juan', u'Skagit', u'Skamania', u'Snohomish', u'Spokane', u'Stevens', u'Thurston', u'Wahkiakum', u'Walla Walla', u'Whatcom', u'Whitman', u'Yakima']\n"
     ]
    }
   ],
   "source": [
    "import arcpy     \n",
    "arcpy.env.workspace = r\"F:\\UW\\GEOG458 Python\\Arclab\\day4\\workspace\" \n",
    "\n",
    "tablefile = \"WashingtonFIPS.dbf\"\n",
    "waname = \"CountyName\"\n",
    "\n",
    "shapenames = [] # created a new list, and then used a search cursor to file the county names from the countyname field.\n",
    "with arcpy.da.SearchCursor(tablefile, waname) as cursor:\n",
    "    for row in cursor:\n",
    "        shapenames.append(row[0]) # appended the county name as it was found.\n",
    "print shapenames"
   ]
  },
  {
   "cell_type": "markdown",
   "metadata": {},
   "source": [
    "After several errors in getting the shapefiles to transfer to GeoJSON, I spoke with Wooldridge and he suggested that I use a searchcursor\n",
    "rather then continue to try to copy files. Searchcursor proved to be a lot less complicated and removed the issue of the GeoJSON files having\n",
    "an additional '.shp' in the name where it would read \"County.shp.geojson\"."
   ]
  },
  {
   "cell_type": "code",
   "execution_count": 44,
   "metadata": {
    "collapsed": false
   },
   "outputs": [],
   "source": [
    "# Transfering Shapefiles\n",
    "for name in shapenames: # used prior list so as to automate the creation of the files.\n",
    "    call(['C:\\\\OSGeo4W\\\\bin\\\\ogr2ogr',\n",
    "          '-f','GeoJSON','-t_srs','WGS84',\n",
    "          '-s_srs','EPSG:26913',\n",
    "          'F:\\\\UW\\\\GEOG458 Python\\\\Arclab\\\\day4\\\\workspace\\\\GeoJSON\\\\' + name + '.geojson',\n",
    "          'F:\\\\UW\\\\GEOG458 Python\\\\Arclab\\\\day4\\\\workspace\\\\temp\\\\'+ name + '.shp' ]) # list solved spare .shp in filename issue. "
   ]
  }
 ],
 "metadata": {
  "kernelspec": {
   "display_name": "Python 2",
   "language": "python",
   "name": "python2"
  },
  "language_info": {
   "codemirror_mode": {
    "name": "ipython",
    "version": 2
   },
   "file_extension": ".py",
   "mimetype": "text/x-python",
   "name": "python",
   "nbconvert_exporter": "python",
   "pygments_lexer": "ipython2",
   "version": "2.7.10"
  }
 },
 "nbformat": 4,
 "nbformat_minor": 0
}
