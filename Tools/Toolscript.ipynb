{
 "cells": [
  {
   "cell_type": "code",
   "execution_count": 15,
   "metadata": {
    "collapsed": true
   },
   "outputs": [],
   "source": [
    "import sys\n",
    "sys.path.append(r'C:\\Program Files (x86)\\ArcGIS\\Desktop10.3\\bin')\n",
    "sys.path.append(r'C:\\Program Files (x86)\\ArcGIS\\Desktop10.3\\arcpy')\n",
    "sys.path.append(r'C:\\Program Files (x86)\\ArcGIS\\Desktop10.3\\ArcToolbox\\Scripts')\n",
    "\n",
    "# Because Workspace\n",
    "import arcpy     \n",
    "import os\n",
    "arcpy.env.workspace=\"F:\\\\UW\\\\GEOG458 Python\\\\Lab 2_ToolsService\\\\workspace\\\\\"  "
   ]
  },
  {
   "cell_type": "code",
   "execution_count": 16,
   "metadata": {
    "collapsed": true
   },
   "outputs": [],
   "source": [
    "# Nested Cursor Paramaters\n",
    "arcpy.env.workspace = r\"U:\\GEOG458 Python\\Workspace\\Tools\\workspace\"\n",
    "outputfolder = r\"U:\\GEOG458 Python\\Workspace\\Tools\\workspace\\output\"\n",
    "\n",
    "infile = \"U:\\\\GEOG458 Python\\\\Workspace\\\\Tools\\\\workspace\\\\King.shp\"\n",
    "popdens = \"PopDens12\"\n",
    "\n",
    "mytable = r\"U:\\GEOG458 Python\\Workspace\\Tools\\workspace\\ReclassTableExample.dbf\"\n",
    "lower = \"lowerbound\"\n",
    "upper = \"upperbound\"\n",
    "value = \"value\"\n",
    "\n",
    "output = r\"U:\\GEOG458 Python\\Workspace\\Tools\\workspace\\output\\test3.shp\"\n",
    "outvalue = \"rank\"\n",
    "novalue = \"42\""
   ]
  },
  {
   "cell_type": "code",
   "execution_count": 17,
   "metadata": {
    "collapsed": false
   },
   "outputs": [
    {
     "data": {
      "text/plain": [
       "<Result 'U:\\\\GEOG458 Python\\\\Workspace\\\\Tools\\\\workspace\\\\output\\\\test3.shp'>"
      ]
     },
     "execution_count": 17,
     "metadata": {},
     "output_type": "execute_result"
    }
   ],
   "source": [
    "# Copy shapefiles \n",
    "arcpy.CopyFeatures_management(infile, output)"
   ]
  },
  {
   "cell_type": "code",
   "execution_count": 18,
   "metadata": {
    "collapsed": false
   },
   "outputs": [
    {
     "data": {
      "text/plain": [
       "<Result 'U:\\\\GEOG458 Python\\\\Workspace\\\\Tools\\\\workspace\\\\output\\\\test3.shp'>"
      ]
     },
     "execution_count": 18,
     "metadata": {},
     "output_type": "execute_result"
    }
   ],
   "source": [
    "# Add a field\n",
    "arcpy.AddField_management(output, outvalue, \"DOUBLE\")"
   ]
  },
  {
   "cell_type": "code",
   "execution_count": 19,
   "metadata": {
    "collapsed": false
   },
   "outputs": [
    {
     "name": "stdout",
     "output_type": "stream",
     "text": [
      "Executing: AddField \"U:\\GEOG458 Python\\Workspace\\Tools\\workspace\\output\\test3.shp\" rank DOUBLE # # # # NULLABLE NON_REQUIRED #\n",
      "Start Time: Tue Feb 09 09:44:43 2016\n",
      "Adding rank to U:\\GEOG458 Python\\Workspace\\Tools\\workspace\\output\\test3.shp...\n",
      "Succeeded at Tue Feb 09 09:44:45 2016 (Elapsed Time: 2.16 seconds)\n"
     ]
    }
   ],
   "source": [
    "with arcpy.da.UpdateCursor(output,[popdens,outvalue]) as cursor1:\n",
    "    for row1 in cursor1:\n",
    "        with arcpy.da.UpdateCursor(mytable,[upper,lower,value]) as cursor2:\n",
    "            for row2 in cursor2:\n",
    "                if row1[0] <= row2[0] and row1[0] >= row2[1]:\n",
    "                    row1[1] = row2[2]\n",
    "                    cursor1.updateRow(row1)\n",
    "                else:\n",
    "                    outvalue = novalue\n",
    "                    cursor1.updateRow(row1)\n",
    "print arcpy.GetMessages() \n",
    "del cursor1, cursor2, row1, row2"
   ]
  },
  {
   "cell_type": "code",
   "execution_count": null,
   "metadata": {
    "collapsed": true
   },
   "outputs": [],
   "source": []
  }
 ],
 "metadata": {
  "kernelspec": {
   "display_name": "Python 2",
   "language": "python",
   "name": "python2"
  },
  "language_info": {
   "codemirror_mode": {
    "name": "ipython",
    "version": 2
   },
   "file_extension": ".py",
   "mimetype": "text/x-python",
   "name": "python",
   "nbconvert_exporter": "python",
   "pygments_lexer": "ipython2",
   "version": "2.7.10"
  }
 },
 "nbformat": 4,
 "nbformat_minor": 0
}
