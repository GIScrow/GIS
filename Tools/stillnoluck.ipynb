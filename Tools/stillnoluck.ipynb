{
 "cells": [
  {
   "cell_type": "code",
   "execution_count": 14,
   "metadata": {
    "collapsed": false
   },
   "outputs": [],
   "source": [
    "import sys\n",
    "sys.path.append(r'C:\\Program Files (x86)\\ArcGIS\\Desktop10.3\\bin')\n",
    "sys.path.append(r'C:\\Program Files (x86)\\ArcGIS\\Desktop10.3\\arcpy')\n",
    "sys.path.append(r'C:\\Program Files (x86)\\ArcGIS\\Desktop10.3\\ArcToolbox\\Scripts')\n",
    "\n",
    "# Because Workspace\n",
    "import arcpy     \n",
    "import os\n",
    "arcpy.env.workspace=\"F:\\\\UW\\\\GEOG458 Python\\\\Lab 2_ToolsService\\\\workspace\\\\\"  "
   ]
  },
  {
   "cell_type": "markdown",
   "metadata": {},
   "source": [
    "### Flexable code that allows for reclassification, according to flex critearia (names)"
   ]
  },
  {
   "cell_type": "code",
   "execution_count": 28,
   "metadata": {
    "collapsed": false
   },
   "outputs": [],
   "source": [
    "# Nested Cursor Paramaters\n",
    "arcpy.env.workspace = \"E:\\\\UW\\\\GEOG458 Python\\\\Lab 2_ToolsService\\\\workspace\"\n",
    "outputfolder = \"E:\\\\UW\\\\GEOG458 Python\\\\Lab 2_ToolsService\\\\workspace\\\\output\\\\\"\n",
    "\n",
    "infile = \"E:\\\\UW\\\\GEOG458 Python\\\\Lab 2_ToolsService\\\\workspace\\\\King.shp\"\n",
    "popdens = \"PopDens12\"\n",
    "\n",
    "mytable = \"E:\\\\UW\\\\GEOG458 Python\\\\Lab 2_ToolsService\\\\workspace\\\\ReclassTableExample.dbf\"\n",
    "lower = \"lowerbound\"\n",
    "upper = \"upperbound\"\n",
    "value = \"value\"\n",
    "\n",
    "output = \"E:\\\\UW\\\\GEOG458 Python\\\\Lab 2_ToolsService\\\\workspace\\\\output\\\\oncemore.shp\"\n",
    "outvalue = \"rank\"\n",
    "novalue = \"42\""
   ]
  },
  {
   "cell_type": "code",
   "execution_count": 29,
   "metadata": {
    "collapsed": false
   },
   "outputs": [
    {
     "data": {
      "text/plain": [
       "<Result 'E:\\\\UW\\\\GEOG458 Python\\\\Lab 2_ToolsService\\\\workspace\\\\output\\\\oncemore.shp'>"
      ]
     },
     "execution_count": 29,
     "metadata": {},
     "output_type": "execute_result"
    }
   ],
   "source": [
    "# Copy shapefiles \n",
    "arcpy.CopyFeatures_management(infile, output)"
   ]
  },
  {
   "cell_type": "code",
   "execution_count": 30,
   "metadata": {
    "collapsed": false
   },
   "outputs": [
    {
     "data": {
      "text/plain": [
       "<Result 'E:\\\\UW\\\\GEOG458 Python\\\\Lab 2_ToolsService\\\\workspace\\\\output\\\\oncemore.shp'>"
      ]
     },
     "execution_count": 30,
     "metadata": {},
     "output_type": "execute_result"
    }
   ],
   "source": [
    "# Add a field\n",
    "arcpy.AddField_management(output, outvalue, \"DOUBLE\")"
   ]
  },
  {
   "cell_type": "code",
   "execution_count": 31,
   "metadata": {
    "collapsed": false,
    "scrolled": true
   },
   "outputs": [
    {
     "name": "stdout",
     "output_type": "stream",
     "text": [
      "whats my value?\n",
      "whats my value?\n",
      "whats my value?\n",
      "whats my value?\n",
      "Executing: AddField \"E:\\UW\\GEOG458 Python\\Lab 2_ToolsService\\workspace\\output\\oncemore.shp\" rank DOUBLE # # # # NULLABLE NON_REQUIRED #\n",
      "Start Time: Mon Feb 08 16:27:41 2016\n",
      "Adding rank to E:\\UW\\GEOG458 Python\\Lab 2_ToolsService\\workspace\\output\\oncemore.shp...\n",
      "Succeeded at Mon Feb 08 16:27:42 2016 (Elapsed Time: 0.55 seconds)\n"
     ]
    }
   ],
   "source": [
    "# Working with nested cursors\n",
    "cursor1 = arcpy.da.UpdateCursor(output,[popdens,outvalue]) \n",
    "cursor2 = arcpy.da.UpdateCursor(mytable,[upper,lower,value])\n",
    "for row1 in cursor1:\n",
    "    for row2 in cursor2:\n",
    "        if row1[0] >= row2[0] and row1[0] <= row2[1]:\n",
    "            print \"I see batman\"\n",
    "            row1[1] = row2[2]\n",
    "            print \"I see robin\"\n",
    "            cursor1.updateRow(row1)\n",
    "        else:\n",
    "            outvalue = novalue\n",
    "            print \"whats my value?\"\n",
    "            cursor1.updateRow(row1)\n",
    "print arcpy.GetMessages() \n",
    "del cursor1, cursor2, row1, row2"
   ]
  },
  {
   "cell_type": "code",
   "execution_count": 25,
   "metadata": {
    "collapsed": false
   },
   "outputs": [
    {
     "name": "stdout",
     "output_type": "stream",
     "text": [
      "whats my value?\n",
      "whats my value?\n",
      "Executing: AddField \"E:\\UW\\GEOG458 Python\\Lab 2_ToolsService\\workspace\\output\\oncemore3.shp\" rank DOUBLE # # # # NULLABLE NON_REQUIRED #\n",
      "Start Time: Mon Feb 08 16:23:10 2016\n",
      "Adding rank to E:\\UW\\GEOG458 Python\\Lab 2_ToolsService\\workspace\\output\\oncemore3.shp...\n",
      "Succeeded at Mon Feb 08 16:23:10 2016 (Elapsed Time: 0.54 seconds)\n"
     ]
    }
   ],
   "source": [
    "# Working with nested cursors\n",
    "cursor1 = arcpy.da.UpdateCursor(\"E:\\\\UW\\\\GEOG458 Python\\\\Lab 2_ToolsService\\\\workspace\\\\output\\\\oncemore3.shp\", [\"PopDens12\", \"rank\"]) \n",
    "cursor2 = arcpy.da.SearchCursor(\"E:\\\\UW\\\\GEOG458 Python\\\\Lab 2_ToolsService\\\\workspace\\\\ReclassTableExample.dbf\", [\"upperbound\", \"lowerbound\", \"value\"])\n",
    "for row1 in cursor1:\n",
    "    for row2 in cursor2:\n",
    "        if row1[0] >= row2[0]:\n",
    "            if row1[0] <= row2[1]:\n",
    "                print \"I see batman\"\n",
    "                row1[1] = row2[2]\n",
    "                print \"I see robin\"\n",
    "                cursor1.updateRow(row1)\n",
    "        else:\n",
    "            outvalue = novalue\n",
    "            print \"whats my value?\"\n",
    "            cursor1.updateRow(row1)\n",
    "print arcpy.GetMessages() \n",
    "del cursor1, cursor2, row1, row2"
   ]
  },
  {
   "cell_type": "code",
   "execution_count": null,
   "metadata": {
    "collapsed": true
   },
   "outputs": [],
   "source": []
  }
 ],
 "metadata": {
  "kernelspec": {
   "display_name": "Python 2",
   "language": "python",
   "name": "python2"
  },
  "language_info": {
   "codemirror_mode": {
    "name": "ipython",
    "version": 2
   },
   "file_extension": ".py",
   "mimetype": "text/x-python",
   "name": "python",
   "nbconvert_exporter": "python",
   "pygments_lexer": "ipython2",
   "version": "2.7.10"
  }
 },
 "nbformat": 4,
 "nbformat_minor": 0
}
