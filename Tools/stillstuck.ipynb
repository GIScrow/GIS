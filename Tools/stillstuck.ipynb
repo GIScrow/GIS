{
 "cells": [
  {
   "cell_type": "code",
   "execution_count": 1,
   "metadata": {
    "collapsed": false
   },
   "outputs": [],
   "source": [
    "import sys\n",
    "sys.path.append(r'C:\\Program Files (x86)\\ArcGIS\\Desktop10.3\\bin')\n",
    "sys.path.append(r'C:\\Program Files (x86)\\ArcGIS\\Desktop10.3\\arcpy')\n",
    "sys.path.append(r'C:\\Program Files (x86)\\ArcGIS\\Desktop10.3\\ArcToolbox\\Scripts')\n",
    "\n",
    "# Because Workspace\n",
    "import arcpy     \n",
    "import os\n",
    "arcpy.env.workspace=\"F:\\\\UW\\\\GEOG458 Python\\\\Lab 2_ToolsService\\\\workspace\\\\\"  "
   ]
  },
  {
   "cell_type": "markdown",
   "metadata": {},
   "source": [
    "### Flexable code that allows for reclassification, according to flex critearia (names)"
   ]
  },
  {
   "cell_type": "code",
   "execution_count": 3,
   "metadata": {
    "collapsed": false
   },
   "outputs": [],
   "source": [
    "# Nested Cursor Paramaters\n",
    "arcpy.env.workspace = \"E:\\\\UW\\\\GEOG458 Python\\\\Lab 2_ToolsService\\\\workspace\"\n",
    "outputfolder = \"E:\\\\UW\\\\GEOG458 Python\\\\Lab 2_ToolsService\\\\workspace\\\\output\\\\\"\n",
    "\n",
    "infile = \"E:\\\\UW\\\\GEOG458 Python\\\\Lab 2_ToolsService\\\\workspace\\\\King.shp\"\n",
    "popdens = \"PopDens12\"\n",
    "\n",
    "mytable = \"E:\\\\UW\\\\GEOG458 Python\\\\Lab 2_ToolsService\\\\workspace\\\\ReclassTableExample.dbf\"\n",
    "lower = \"lowerbound\"\n",
    "upper = \"upperbound\"\n",
    "value = \"value\"\n",
    "\n",
    "output = \"E:\\\\UW\\\\GEOG458 Python\\\\Lab 2_ToolsService\\\\workspace\\\\output\\\\oncemore.shp\"\n",
    "outvalue = \"ranking\"\n",
    "novalue = \"42\""
   ]
  },
  {
   "cell_type": "code",
   "execution_count": 4,
   "metadata": {
    "collapsed": false
   },
   "outputs": [
    {
     "data": {
      "text/plain": [
       "<Result 'E:\\\\UW\\\\GEOG458 Python\\\\Lab 2_ToolsService\\\\workspace\\\\output\\\\oncemore.shp'>"
      ]
     },
     "execution_count": 4,
     "metadata": {},
     "output_type": "execute_result"
    }
   ],
   "source": [
    "# Copy shapefiles \n",
    "arcpy.CopyFeatures_management (infile, output)"
   ]
  },
  {
   "cell_type": "code",
   "execution_count": 5,
   "metadata": {
    "collapsed": false
   },
   "outputs": [
    {
     "data": {
      "text/plain": [
       "<Result 'E:\\\\UW\\\\GEOG458 Python\\\\Lab 2_ToolsService\\\\workspace\\\\output\\\\oncemore.shp'>"
      ]
     },
     "execution_count": 5,
     "metadata": {},
     "output_type": "execute_result"
    }
   ],
   "source": [
    "# Add a field\n",
    "arcpy.AddField_management (output, outvalue, \"INTEGER\")"
   ]
  },
  {
   "cell_type": "code",
   "execution_count": 7,
   "metadata": {
    "collapsed": false,
    "scrolled": true
   },
   "outputs": [
    {
     "name": "stdout",
     "output_type": "stream",
     "text": [
      "Executing: AddField \"E:\\UW\\GEOG458 Python\\Lab 2_ToolsService\\workspace\\output\\oncemore.shp\" ranking INTEGER # # # # NULLABLE NON_REQUIRED #\n",
      "Start Time: Mon Feb 08 15:58:30 2016\n",
      "Adding ranking to E:\\UW\\GEOG458 Python\\Lab 2_ToolsService\\workspace\\output\\oncemore.shp...\n",
      "Succeeded at Mon Feb 08 15:58:31 2016 (Elapsed Time: 0.53 seconds)\n"
     ]
    }
   ],
   "source": [
    "# Working with nested cursors\n",
    "cursor1 = arcpy.da.UpdateCursor(output, [popdens, outvalue]) \n",
    "cursor2 = arcpy.da.UpdateCursor(mytable, [upper, lower, value])\n",
    "for row1 in cursor1:\n",
    "    for row2 in cursor2:\n",
    "        if row1[0] >= row2[0] and row1[0] <= row2[1]:\n",
    "            row1[1] = row2[2]\n",
    "            cursor1.updateRow(row1)\n",
    "            cursor2.updateRow(row2)\n",
    "        else:\n",
    "            outvalue = novalue\n",
    "            cursor1.updateRow(row1)\n",
    "            cursor2.updateRow(row2)\n",
    "print arcpy.GetMessages() "
   ]
  },
  {
   "cell_type": "code",
   "execution_count": null,
   "metadata": {
    "collapsed": true
   },
   "outputs": [],
   "source": []
  }
 ],
 "metadata": {
  "kernelspec": {
   "display_name": "Python 2",
   "language": "python",
   "name": "python2"
  },
  "language_info": {
   "codemirror_mode": {
    "name": "ipython",
    "version": 2
   },
   "file_extension": ".py",
   "mimetype": "text/x-python",
   "name": "python",
   "nbconvert_exporter": "python",
   "pygments_lexer": "ipython2",
   "version": "2.7.10"
  }
 },
 "nbformat": 4,
 "nbformat_minor": 0
}
