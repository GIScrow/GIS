{
 "cells": [
  {
   "cell_type": "markdown",
   "metadata": {
    "collapsed": true
   },
   "source": [
    "https://canvas.uw.edu/courses/1022940/assignments/3103586\n",
    "\n",
    "* develop flexible code that lets us reclassify an attribute within a vector feature class according to flexible criteria.  \n",
    "\n",
    "* package the code up into a geoprocessing tool that can be used within ArcGIS Desktop’s GUI, within ModelBuilder, or in ArcPy.  \n",
    "\n",
    "* experiment with new ways of putting the tool you develop out onto the internet as a service that could be used by other people on other computers from afar without downloading or installing the code locally.  \n",
    "\n",
    "\n",
    "it’s important for you to first learn not only about how tools are created, \n",
    "but about how they are published as services online in ArcGIS 10.3.x.\n",
    "\n",
    "###### Goal: \n",
    "able to publish a tool as a geoprocessing service imposes structure on the way that the tool can accept inputs through its parameters.  \n",
    "which will have implications for how you write parts of your code. At the very least, consider doing much of your initial reading for the various parts of the assignment first before coding the reclassification tool.\n"
   ]
  },
  {
   "cell_type": "markdown",
   "metadata": {},
   "source": [
    "#####  task to be solved\n",
    "\n",
    "You will need to design and write code to accomplish reclassification\n",
    "\n",
    "\n",
    "- user gives you a valid shapefile, perhaps called mytable  \n",
    "(though, in reality, you will be getting mytable from the user via the geoprocessing tool input parameters).\n",
    "\n",
    "- user specifies that s/he wants to reclassify the [‘double’ type] field infield…\n",
    " …and store the results in a field that does not exist yet, outfield, whose name the user specifies.\n",
    "    \n",
    "- user provides you with a table called reclasstable that tells you how to do the reclassification.   \n",
    "  Specifically, the table has columns named lowerbound, upperbound, and value.  \n",
    "\n",
    "- For every row in mytable, your code must look at the value of infield and decide what to write in the outfield.\n",
    "\n",
    "- therefore it must go through the reclasstable to find the first row in reclasstable where the value from infield is greater than or equal to the lowerbound and less-than-or-equal-to the upperbound.\n",
    "\n",
    "- If this row exists, then outfield should be set to value.\n",
    "\n",
    "- If no row in the reclasstable matches the current value in infield, then outfield should be set to a special number called notfoundvalue, which the user has also specified."
   ]
  },
  {
   "cell_type": "markdown",
   "metadata": {},
   "source": [
    "##### Sample input conditions and outputs\n",
    "\n",
    "- Given this shapefileView in a new window of King County block groups, \n",
    "-  Reclassify the field \"PopDens12\" (corresponding to the population density, per square mile of land, estimated for 2012) according to this reclassification table file.\n",
    "- View in a new window Be sure to let the user call the new field whatever s/he pleases.\n",
    "- Let block groups whose densities do not fall within the ranges specified by the reclassification table be classified 9999.\n",
    "\n",
    "If you were to then take the shapefile your code/tool/service outputted and manually map the reclassified field, and if you were to choose 'unique values' symbology, and if you were to zoom in on Seattle a little, you should find that your results look like this.Preview the documentView in a new window Look carefully--subtle differences from your outputs may indicate that you've failed to handle some cases properly!"
   ]
  },
  {
   "cell_type": "code",
   "execution_count": 3,
   "metadata": {
    "collapsed": false
   },
   "outputs": [],
   "source": [
    "import sys\n",
    "sys.path.append(r'C:\\Program Files (x86)\\ArcGIS\\Desktop10.3\\bin')\n",
    "sys.path.append(r'C:\\Program Files (x86)\\ArcGIS\\Desktop10.3\\arcpy')\n",
    "sys.path.append(r'C:\\Program Files (x86)\\ArcGIS\\Desktop10.3\\ArcToolbox\\Scripts')\n",
    "\n",
    "# Because Workspace\n",
    "import arcpy     \n",
    "import os\n",
    "arcpy.env.workspace=\"F:\\\\UW\\\\GEOG458 Python\\\\Lab 2_ToolsService\\\\workspace\\\\\"  "
   ]
  },
  {
   "cell_type": "markdown",
   "metadata": {},
   "source": [
    "### Flexable code that allows for reclassification, according to flex critearia (names)"
   ]
  },
  {
   "cell_type": "code",
   "execution_count": 4,
   "metadata": {
    "collapsed": false
   },
   "outputs": [],
   "source": [
    "# Nested Cursor Paramaters\n",
    "arcpy.env.workspace = \"F:\\\\UW\\\\GEOG458 Python\\\\Lab 2_ToolsService\\\\workspace\"\n",
    "outputfolder = \"F:\\\\UW\\\\GEOG458 Python\\\\Lab 2_ToolsService\\\\workspace\\\\output\\\\\"\n",
    "infile = \"F:\\\\UW\\\\GEOG458 Python\\\\Lab 2_ToolsService\\\\workspace\\\\King.shp\"\n",
    "fieldy = \"PopDens12\"\n",
    "mytable = \"F:\\\\UW\\\\GEOG458 Python\\\\Lab 2_ToolsService\\\\workspace\\\\ReclassTableExample.dbf\"\n",
    "lower = \"lowerbound\"\n",
    "upper = \"upperbound\"\n",
    "value = \"value\"\n",
    "output = \"F:\\\\UW\\\\GEOG458 Python\\\\Lab 2_ToolsService\\\\workspace\\\\output\\\\hello.shp\"\n",
    "out_name = \"ranking\"\n",
    "novalue = \"whereami\""
   ]
  },
  {
   "cell_type": "code",
   "execution_count": 24,
   "metadata": {
    "collapsed": false
   },
   "outputs": [
    {
     "name": "stdout",
     "output_type": "stream",
     "text": [
      "OID\n",
      "lowerbound\n",
      "upperbound\n",
      "value\n",
      "\n"
     ]
    }
   ],
   "source": [
    "# Checking fieldnames in king shapefile. \n",
    "fieldlist = arcpy.ListFields(r\"F:\\UW\\GEOG458 Python\\Lab 2_ToolsService\\workspace\\ReclassTableExample.dbf\", \"\")\n",
    "for field in fieldlist:\n",
    "    print field.name \n",
    "print arcpy.GetMessages() "
   ]
  },
  {
   "cell_type": "code",
   "execution_count": null,
   "metadata": {
    "collapsed": false
   },
   "outputs": [],
   "source": [
    "# Copy shapefiles \n",
    "arcpy.CopyFeatures_management (infile, output)"
   ]
  },
  {
   "cell_type": "code",
   "execution_count": 7,
   "metadata": {
    "collapsed": false
   },
   "outputs": [
    {
     "data": {
      "text/plain": [
       "<Result 'F:\\\\UW\\\\GEOG458 Python\\\\Lab 2_ToolsService\\\\workspace\\\\output\\\\hello.shp'>"
      ]
     },
     "execution_count": 7,
     "metadata": {},
     "output_type": "execute_result"
    }
   ],
   "source": [
    "# Add a field\n",
    "arcpy.AddField_management (output, out_name, \"FLOAT\")"
   ]
  },
  {
   "cell_type": "code",
   "execution_count": 6,
   "metadata": {
    "collapsed": false
   },
   "outputs": [
    {
     "ename": "RuntimeError",
     "evalue": "ERROR 000824: The tool is not licensed.",
     "output_type": "error",
     "traceback": [
      "\u001b[1;31m---------------------------------------------------------------------------\u001b[0m",
      "\u001b[1;31mRuntimeError\u001b[0m                              Traceback (most recent call last)",
      "\u001b[1;32m<ipython-input-6-14af6d8310dc>\u001b[0m in \u001b[0;36m<module>\u001b[1;34m()\u001b[0m\n\u001b[0;32m      4\u001b[0m         \u001b[1;32mwith\u001b[0m \u001b[0marcpy\u001b[0m\u001b[1;33m.\u001b[0m\u001b[0mda\u001b[0m\u001b[1;33m.\u001b[0m\u001b[0mSearchCursor\u001b[0m\u001b[1;33m(\u001b[0m\u001b[0mmytable\u001b[0m\u001b[1;33m,\u001b[0m \u001b[1;33m[\u001b[0m\u001b[0mupper\u001b[0m\u001b[1;33m,\u001b[0m \u001b[0mlower\u001b[0m\u001b[1;33m,\u001b[0m \u001b[0mvalue\u001b[0m\u001b[1;33m]\u001b[0m\u001b[1;33m)\u001b[0m \u001b[1;32mas\u001b[0m \u001b[0mCurtable\u001b[0m\u001b[1;33m:\u001b[0m\u001b[1;33m\u001b[0m\u001b[0m\n\u001b[0;32m      5\u001b[0m             \u001b[1;32mfor\u001b[0m \u001b[0mtrow\u001b[0m \u001b[1;32min\u001b[0m \u001b[0mCurtable\u001b[0m\u001b[1;33m:\u001b[0m\u001b[1;33m\u001b[0m\u001b[0m\n\u001b[1;32m----> 6\u001b[1;33m                 \u001b[1;32mif\u001b[0m \u001b[0marcpy\u001b[0m\u001b[1;33m.\u001b[0m\u001b[0msa\u001b[0m\u001b[1;33m.\u001b[0m\u001b[0mGreaterThanEqual\u001b[0m\u001b[1;33m(\u001b[0m\u001b[0mtrow\u001b[0m\u001b[1;33m[\u001b[0m\u001b[1;36m0\u001b[0m\u001b[1;33m]\u001b[0m\u001b[1;33m,\u001b[0m\u001b[0msrow\u001b[0m\u001b[1;33m[\u001b[0m\u001b[1;36m0\u001b[0m\u001b[1;33m]\u001b[0m\u001b[1;33m)\u001b[0m \u001b[1;32mand\u001b[0m \u001b[0marcpy\u001b[0m\u001b[1;33m.\u001b[0m\u001b[0msa\u001b[0m\u001b[1;33m.\u001b[0m\u001b[0mLessThanEqual\u001b[0m\u001b[1;33m(\u001b[0m\u001b[0mtrow\u001b[0m\u001b[1;33m[\u001b[0m\u001b[1;36m1\u001b[0m\u001b[1;33m]\u001b[0m\u001b[1;33m,\u001b[0m\u001b[0msrow\u001b[0m\u001b[1;33m[\u001b[0m\u001b[1;36m0\u001b[0m\u001b[1;33m]\u001b[0m\u001b[1;33m)\u001b[0m\u001b[1;33m:\u001b[0m\u001b[1;33m\u001b[0m\u001b[0m\n\u001b[0m\u001b[0;32m      7\u001b[0m                         \u001b[0msrow\u001b[0m\u001b[1;33m[\u001b[0m\u001b[1;36m1\u001b[0m\u001b[1;33m]\u001b[0m \u001b[1;33m=\u001b[0m \u001b[0mtrow\u001b[0m\u001b[1;33m[\u001b[0m\u001b[1;36m2\u001b[0m\u001b[1;33m]\u001b[0m\u001b[1;33m\u001b[0m\u001b[0m\n\u001b[0;32m      8\u001b[0m                         \u001b[0mCursource\u001b[0m\u001b[1;33m.\u001b[0m\u001b[0mupdateRow\u001b[0m\u001b[1;33m(\u001b[0m\u001b[0msrow\u001b[0m\u001b[1;33m)\u001b[0m\u001b[1;33m\u001b[0m\u001b[0m\n",
      "\u001b[1;32mC:\\Program Files (x86)\\ArcGIS\\Desktop10.3\\arcpy\\arcpy\\sa\\Functions.py\u001b[0m in \u001b[0;36mGreaterThanEqual\u001b[1;34m(in_raster_or_constant1, in_raster_or_constant2)\u001b[0m\n\u001b[0;32m   3923\u001b[0m     return Wrapper(\n\u001b[0;32m   3924\u001b[0m         \u001b[0min_raster_or_constant1\u001b[0m\u001b[1;33m,\u001b[0m\u001b[1;33m\u001b[0m\u001b[0m\n\u001b[1;32m-> 3925\u001b[1;33m         in_raster_or_constant2)\n\u001b[0m\u001b[0;32m   3926\u001b[0m \u001b[0mGreaterThanEqual\u001b[0m\u001b[1;33m.\u001b[0m\u001b[0m__esri_toolname__\u001b[0m \u001b[1;33m=\u001b[0m \u001b[1;34m\"GreaterThanEqual_sa\"\u001b[0m\u001b[1;33m\u001b[0m\u001b[0m\n\u001b[0;32m   3927\u001b[0m GreaterThanEqual.__esri_toolinfo__ = [\n",
      "\u001b[1;32mC:\\Program Files (x86)\\ArcGIS\\Desktop10.3\\arcpy\\arcpy\\sa\\Utils.py\u001b[0m in \u001b[0;36mswapper\u001b[1;34m(*args, **kwargs)\u001b[0m\n\u001b[0;32m     51\u001b[0m \u001b[1;33m\u001b[0m\u001b[0m\n\u001b[0;32m     52\u001b[0m             \u001b[1;32mtry\u001b[0m\u001b[1;33m:\u001b[0m\u001b[1;33m\u001b[0m\u001b[0m\n\u001b[1;32m---> 53\u001b[1;33m                 \u001b[0mresult\u001b[0m \u001b[1;33m=\u001b[0m \u001b[0mwrapper\u001b[0m\u001b[1;33m(\u001b[0m\u001b[1;33m*\u001b[0m\u001b[0margs\u001b[0m\u001b[1;33m,\u001b[0m \u001b[1;33m**\u001b[0m\u001b[0mkwargs\u001b[0m\u001b[1;33m)\u001b[0m\u001b[1;33m\u001b[0m\u001b[0m\n\u001b[0m\u001b[0;32m     54\u001b[0m             \u001b[1;32mfinally\u001b[0m\u001b[1;33m:\u001b[0m\u001b[1;33m\u001b[0m\u001b[0m\n\u001b[0;32m     55\u001b[0m                 \u001b[1;31m# Reset the geoprocessor state to the original setting.\u001b[0m\u001b[1;33m\u001b[0m\u001b[1;33m\u001b[0m\u001b[0m\n",
      "\u001b[1;32mC:\\Program Files (x86)\\ArcGIS\\Desktop10.3\\arcpy\\arcpy\\sa\\Functions.py\u001b[0m in \u001b[0;36mWrapper\u001b[1;34m(in_raster_or_constant1, in_raster_or_constant2)\u001b[0m\n\u001b[0;32m   3920\u001b[0m             in_raster_or_constant2):\n\u001b[0;32m   3921\u001b[0m         return _wrapLocalFunctionRaster(u\"GreaterThanEqual_sa\",\n\u001b[1;32m-> 3922\u001b[1;33m             [\"GreaterThanEqual\", in_raster_or_constant1, in_raster_or_constant2])\n\u001b[0m\u001b[0;32m   3923\u001b[0m     return Wrapper(\n\u001b[0;32m   3924\u001b[0m         \u001b[0min_raster_or_constant1\u001b[0m\u001b[1;33m,\u001b[0m\u001b[1;33m\u001b[0m\u001b[0m\n",
      "\u001b[1;31mRuntimeError\u001b[0m: ERROR 000824: The tool is not licensed."
     ]
    }
   ],
   "source": [
    "# Working with nested cursors\n",
    "with arcpy.da.SearchCursor(output, [fieldy, out_name]) as Cursource:\n",
    "    for srow in Cursource:\n",
    "        with arcpy.da.SearchCursor(mytable, [upper, lower, value]) as Curtable:\n",
    "            for trow in Curtable:\n",
    "                if arcpy.sa.GreaterThanEqual(trow[0],srow[0]) and arcpy.sa.LessThanEqual(trow[1],srow[0]):\n",
    "                        srow[1] = trow[2]\n",
    "                        Cursource.updateRow(srow)\n",
    "                else:\n",
    "                    srow[1] = notfoundvalue\n",
    "                    Cursource.updateRow(srow)\n",
    "print arcpy.GetMessages() "
   ]
  },
  {
   "cell_type": "code",
   "execution_count": 12,
   "metadata": {
    "collapsed": false
   },
   "outputs": [
    {
     "ename": "RuntimeError",
     "evalue": "A column was specified that does not exist.",
     "output_type": "error",
     "traceback": [
      "\u001b[1;31m---------------------------------------------------------------------------\u001b[0m",
      "\u001b[1;31mRuntimeError\u001b[0m                              Traceback (most recent call last)",
      "\u001b[1;32m<ipython-input-12-c2041095f331>\u001b[0m in \u001b[0;36m<module>\u001b[1;34m()\u001b[0m\n\u001b[0;32m      1\u001b[0m \u001b[1;31m# Working with nested cursors\u001b[0m\u001b[1;33m\u001b[0m\u001b[1;33m\u001b[0m\u001b[0m\n\u001b[0;32m      2\u001b[0m \u001b[1;32mwith\u001b[0m \u001b[0marcpy\u001b[0m\u001b[1;33m.\u001b[0m\u001b[0mda\u001b[0m\u001b[1;33m.\u001b[0m\u001b[0mUpdateCursor\u001b[0m\u001b[1;33m(\u001b[0m\u001b[0moutput\u001b[0m\u001b[1;33m,\u001b[0m \u001b[1;33m[\u001b[0m\u001b[0mfieldy\u001b[0m\u001b[1;33m,\u001b[0m \u001b[0mout_name\u001b[0m\u001b[1;33m]\u001b[0m\u001b[1;33m)\u001b[0m \u001b[1;32mas\u001b[0m \u001b[0mCursor\u001b[0m\u001b[1;33m:\u001b[0m\u001b[1;33m\u001b[0m\u001b[0m\n\u001b[1;32m----> 3\u001b[1;33m     \u001b[1;32mfor\u001b[0m \u001b[0mrow\u001b[0m \u001b[1;32min\u001b[0m \u001b[0mCursor\u001b[0m\u001b[1;33m:\u001b[0m\u001b[1;33m\u001b[0m\u001b[0m\n\u001b[0m\u001b[0;32m      4\u001b[0m         \u001b[1;32mwith\u001b[0m \u001b[0marcpy\u001b[0m\u001b[1;33m.\u001b[0m\u001b[0mda\u001b[0m\u001b[1;33m.\u001b[0m\u001b[0mSearchCursor\u001b[0m\u001b[1;33m(\u001b[0m\u001b[0mmytable\u001b[0m\u001b[1;33m,\u001b[0m \u001b[1;33m[\u001b[0m\u001b[0mupper\u001b[0m\u001b[1;33m,\u001b[0m \u001b[0mlower\u001b[0m\u001b[1;33m,\u001b[0m \u001b[0mvalue\u001b[0m\u001b[1;33m]\u001b[0m\u001b[1;33m)\u001b[0m \u001b[1;32mas\u001b[0m \u001b[0mCursor2\u001b[0m\u001b[1;33m:\u001b[0m\u001b[1;33m\u001b[0m\u001b[0m\n\u001b[0;32m      5\u001b[0m             \u001b[1;32mfor\u001b[0m \u001b[0mrow2\u001b[0m \u001b[1;32min\u001b[0m \u001b[0mCursor2\u001b[0m\u001b[1;33m:\u001b[0m\u001b[1;33m\u001b[0m\u001b[0m\n",
      "\u001b[1;31mRuntimeError\u001b[0m: A column was specified that does not exist."
     ]
    }
   ],
   "source": [
    "# Working with nested cursors\n",
    "with arcpy.da.UpdateCursor(output, [fieldy, out_name]) as Cursor:\n",
    "    for row in Cursor:\n",
    "        with arcpy.da.SearchCursor(mytable, [upper, lower, value]) as Cursor2:\n",
    "            for row2 in Cursor2:\n",
    "                if row[0] <= row2[0] and row[0] >= row2[1]:\n",
    "                    row[1] = row2[2]\n",
    "                else:\n",
    "                    out_name = novalue\n",
    "                    # I tried using update row but it said that da.SearchCursor had no attribute 'updateRow'\n",
    "print arcpy.GetMessages() "
   ]
  }
 ],
 "metadata": {
  "kernelspec": {
   "display_name": "Python 2",
   "language": "python",
   "name": "python2"
  },
  "language_info": {
   "codemirror_mode": {
    "name": "ipython",
    "version": 2
   },
   "file_extension": ".py",
   "mimetype": "text/x-python",
   "name": "python",
   "nbconvert_exporter": "python",
   "pygments_lexer": "ipython2",
   "version": "2.7.10"
  }
 },
 "nbformat": 4,
 "nbformat_minor": 0
}
