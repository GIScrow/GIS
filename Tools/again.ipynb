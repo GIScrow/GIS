{
 "cells": [
  {
   "cell_type": "markdown",
   "metadata": {},
   "source": [
    "##### Building Geoprocessing Tools and Services\n",
    "* Amanda Vann  \n",
    "\n",
    "\n",
    "Python Script: https://github.com/UW-GEOG458-Winter2016/avann/blob/gh-pages/Tools/toolboxscript.py         \n",
    "Toolbox URL: http://qilin.geog.uw.edu:6080/arcgis/rest/services/Whtcrow/Reclassifyscript/GPServer  \n",
    "\n",
    "Due to the usefulness of python notebook, I did all writing, editing and commenting regarding the scripting process in Ipynb, and then made a new python file and copied the pythyon scripts that I would use for the toolbox to that file."
   ]
  },
  {
   "cell_type": "code",
   "execution_count": 11,
   "metadata": {
    "collapsed": true
   },
   "outputs": [],
   "source": [
    "import sys\n",
    "sys.path.append(r'C:\\Program Files (x86)\\ArcGIS\\Desktop10.3\\bin')\n",
    "sys.path.append(r'C:\\Program Files (x86)\\ArcGIS\\Desktop10.3\\arcpy')\n",
    "sys.path.append(r'C:\\Program Files (x86)\\ArcGIS\\Desktop10.3\\ArcToolbox\\Scripts')\n",
    "\n",
    "# Because Workspace\n",
    "import arcpy     \n",
    "import os\n",
    "arcpy.env.workspace=\"F:\\\\UW\\\\GEOG458 Python\\\\Lab 2_ToolsService\\\\workspace\\\\\"  "
   ]
  },
  {
   "cell_type": "code",
   "execution_count": 40,
   "metadata": {
    "collapsed": true
   },
   "outputs": [],
   "source": [
    "# Nested Cursor Paramaters\n",
    "arcpy.env.workspace = r\"U:\\GEOG458 Python\\Workspace\\Tools\\workspace\"\n",
    "\n",
    "infile = \"U:\\\\GEOG458 Python\\\\Workspace\\\\Tools\\\\workspace\\\\King.shp\"\n",
    "popdens = \"PopDens12\"\n",
    "\n",
    "mytable = r\"U:\\GEOG458 Python\\Workspace\\Tools\\workspace\\ReclassTableExample.dbf\"\n",
    "lower = \"lowerbound\"\n",
    "upper = \"upperbound\"\n",
    "value = \"value\"\n",
    "\n",
    "output = r\"U:\\GEOG458 Python\\Workspace\\Tools\\workspace\\output\\test5.shp\"\n",
    "outvalue = \"rank\"\n",
    "notfoundvalue = \"9999\""
   ]
  },
  {
   "cell_type": "markdown",
   "metadata": {},
   "source": [
    "I initialy tested the nested cursor paramiters through dirrect links, and after I was able to get the script to work, I changed them to ParameterAsText(1) so as to be recognized by the toolbox. After some issues of not being able to get the toolbox to recognize my script, I sought help and was adviced by the TA to change it to GetParameterAsText(1) instead."
   ]
  },
  {
   "cell_type": "code",
   "execution_count": 2,
   "metadata": {
    "collapsed": true
   },
   "outputs": [],
   "source": [
    "# Nested Cursor Paramaters\n",
    "infile = GetParameterAsText(0)\n",
    "popdens = GetParameterAsText(1)\n",
    "\n",
    "mytable = GetParameterAsText(2)\n",
    "upper = GetParameterAsText(3) #reordered upper and lower values for ease of reading in the database\n",
    "lower = GetParameterAsText(4)\n",
    "value = GetParameterAsText(5)\n",
    "\n",
    "output = GetParameterAsText(6)\n",
    "outvalue = \"class\"\n",
    "notfoundvalue = GetParameterAsText(7)"
   ]
  },
  {
   "cell_type": "markdown",
   "metadata": {},
   "source": [
    "I started by running scripts that listed the field content of both 'infile' and 'mytable' so as to make sure that the spelling of the fields being used were correct.  Rather then have to copy and paste the shapefiles in the occurence of errors, I made a copy of the king file for the output that I could delete as I went along if there were issues."
   ]
  },
  {
   "cell_type": "code",
   "execution_count": 41,
   "metadata": {
    "collapsed": false
   },
   "outputs": [
    {
     "data": {
      "text/plain": [
       "<Result 'U:\\\\GEOG458 Python\\\\Workspace\\\\Tools\\\\workspace\\\\output\\\\test5.shp'>"
      ]
     },
     "execution_count": 41,
     "metadata": {},
     "output_type": "execute_result"
    }
   ],
   "source": [
    "# Copy shapefiles \n",
    "arcpy.CopyFeatures_management(infile, output)"
   ]
  },
  {
   "cell_type": "code",
   "execution_count": 42,
   "metadata": {
    "collapsed": false
   },
   "outputs": [
    {
     "data": {
      "text/plain": [
       "<Result 'U:\\\\GEOG458 Python\\\\Workspace\\\\Tools\\\\workspace\\\\output\\\\test5.shp'>"
      ]
     },
     "execution_count": 42,
     "metadata": {},
     "output_type": "execute_result"
    }
   ],
   "source": [
    "# Add a field\n",
    "arcpy.AddField_management(output, outvalue, \"LONG\")"
   ]
  },
  {
   "cell_type": "markdown",
   "metadata": {},
   "source": [
    "Following along with results from the previous lab of using nested \n",
    "I origionaly used the following script for the nested cursors:\n",
    "\n",
    "> cursor1 = arcpy.da.UpdateCursor(output, [popdens, outvalue])   \n",
    "> cursor2 = arcpy.da.UpdateCursor(mytable, [upper, lower, value])   \n",
    "\n",
    "It claimed to run, but then when I open the shapefile in arcmap to double check that the information was copied correctly, the field row is still all 0's.  \n",
    "When it was not giving falls runs, it was giving the following error.\n",
    "\n",
    "> RuntimeError: A column was specified that does not exist. \n",
    "\n",
    "I tried a varity of methods with no success and eventualy emailed for help as I could not understand what was wrong with my script.  After taking the proffesors advice of running print scripts for debugging and found that it would not read the row where I had the lesser and greater symbles.  I did several corrections of syntax to try to fix the issues of the script not running.  Despite edits, the script still did not seem to run.   \n",
    "\n",
    "I eventualy changed it to use a 'with' script, which seemed to work."
   ]
  },
  {
   "cell_type": "code",
   "execution_count": 5,
   "metadata": {
    "collapsed": false
   },
   "outputs": [
    {
     "name": "stdout",
     "output_type": "stream",
     "text": [
      "Executing: AddField \"U:\\GEOG458 Python\\Workspace\\Tools\\workspace\\output\\tryingscript.shp\" rank DOUBLE # # # # NULLABLE NON_REQUIRED #\n",
      "Start Time: Tue Feb 09 16:35:56 2016\n",
      "Adding rank to U:\\GEOG458 Python\\Workspace\\Tools\\workspace\\output\\tryingscript.shp...\n",
      "Succeeded at Tue Feb 09 16:35:58 2016 (Elapsed Time: 2.54 seconds)\n"
     ]
    }
   ],
   "source": [
    "with arcpy.da.UpdateCursor(output,[popdens,outvalue]) as cursor1:\n",
    "    for row1 in cursor1:\n",
    "        with arcpy.da.SearchCursor(mytable,[upper,lower,value]) as cursor2:\n",
    "            for row2 in cursor2:\n",
    "                if row1[0] <= row2[0] and row1[0] >= row2[1]:\n",
    "                    row1[1] = row2[2]\n",
    "                    cursor1.updateRow(row1)\n",
    "                else:\n",
    "                    row1[1] = novalue\n",
    "                    cursor1.updateRow(row1)\n",
    "                # I had attempted a cursor.next() field to get the else to loop when it refused to loop at one point.\n",
    "                    \n",
    "print arcpy.GetMessages() \n",
    "del cursor1, cursor2, row1, row2 #added so as to get the curors to stop locking the file."
   ]
  },
  {
   "cell_type": "markdown",
   "metadata": {},
   "source": [
    "After belatedly discovering that the rows were not recognizing the else value, I tried a variaty of different methods but the script would either ignore the else entirely, or replace all fields that were not the the same value as the last row with the null value. \n",
    "\n",
    "I attempted a script that would count the rows in mytable, and then once it reached the last row, it would replace all no value fields with the null value number.\n",
    "\n",
    ">  result = arcpy.GetCount_management(mytable)  \n",
    ">  count = int(result.getOutput(0))  \n",
    ">  print(count)  \n",
    ">  field = 0  \n",
    "\n",
    "I tried using a mix of counting and setting a loop script to 'else', 'elif' and 'if' but none of them worked.  After speaking to Hardy, he suggested having an entirely separate update cursor that would find the left over values and designated it to the value that the user may want."
   ]
  },
  {
   "cell_type": "code",
   "execution_count": 43,
   "metadata": {
    "collapsed": false
   },
   "outputs": [
    {
     "name": "stdout",
     "output_type": "stream",
     "text": [
      "Executing: AddField \"U:\\GEOG458 Python\\Workspace\\Tools\\workspace\\output\\test5.shp\" rank LONG # # # # NULLABLE NON_REQUIRED #\n",
      "Start Time: Wed Feb 10 14:23:55 2016\n",
      "Adding rank to U:\\GEOG458 Python\\Workspace\\Tools\\workspace\\output\\test5.shp...\n",
      "Succeeded at Wed Feb 10 14:23:57 2016 (Elapsed Time: 1.73 seconds)\n"
     ]
    }
   ],
   "source": [
    "with arcpy.da.UpdateCursor(output,[popdens,outvalue]) as cursor1:\n",
    "    for row1 in cursor1:\n",
    "        with arcpy.da.SearchCursor(mytable,[upper,lower,value]) as cursor2:\n",
    "            for row2 in cursor2:\n",
    "                if row1[0] <= row2[0] and row1[0] >= row2[1]:\n",
    "                    row1[1] = row2[2]\n",
    "                    cursor1.updateRow(row1)\n",
    "        \n",
    "# edited in attempt to get the cursor to see the null values.        \n",
    "with arcpy.da.UpdateCursor(output,[popdens,outvalue]) as cursor3: \n",
    "    for row3 in cursor3:\n",
    "        if row3[1] == 0:\n",
    "            row3[1] = notfoundvalue\n",
    "            cursor3.updateRow(row3)\n",
    "                    \n",
    "print arcpy.GetMessages() \n",
    "del cursor1, cursor2, cursor3, row1, row2, row3 #  added so as to get the curors to stop locking the file."
   ]
  }
 ],
 "metadata": {
  "kernelspec": {
   "display_name": "Python 2",
   "language": "python",
   "name": "python2"
  },
  "language_info": {
   "codemirror_mode": {
    "name": "ipython",
    "version": 2
   },
   "file_extension": ".py",
   "mimetype": "text/x-python",
   "name": "python",
   "nbconvert_exporter": "python",
   "pygments_lexer": "ipython2",
   "version": "2.7.10"
  }
 },
 "nbformat": 4,
 "nbformat_minor": 0
}
